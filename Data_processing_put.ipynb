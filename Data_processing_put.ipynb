{
  "nbformat": 4,
  "nbformat_minor": 0,
  "metadata": {
    "colab": {
      "name": "Data_processing_put.ipynb",
      "provenance": [],
      "collapsed_sections": [],
      "toc_visible": true
    },
    "kernelspec": {
      "name": "python3",
      "display_name": "Python 3"
    },
    "language_info": {
      "name": "python"
    }
  },
  "cells": [
    {
      "cell_type": "markdown",
      "metadata": {
        "id": "goP6l59Fz6-t"
      },
      "source": [
        "# Data Preprocessing "
      ]
    },
    {
      "cell_type": "markdown",
      "metadata": {
        "id": "RyODDb-4NgaU"
      },
      "source": [
        "This step involved cheaning data. Followed by combining databases containing treasury rate (r) and the option data. Calculating historial and calibrated volatility, tau (τ), and other parameters"
      ]
    },
    {
      "cell_type": "code",
      "metadata": {
        "id": "EmgfF8Dsz6nY"
      },
      "source": [
        "import tensorflow as tf\n",
        "from tensorflow.keras import Input, layers, Model, utils, initializers, losses, optimizers, Sequential, callbacks, backend\n",
        "import tensorflow.keras as K"
      ],
      "execution_count": null,
      "outputs": []
    },
    {
      "cell_type": "code",
      "metadata": {
        "id": "5SmN5jed0luZ"
      },
      "source": [
        "import pandas as pd\n",
        "import numpy as np\n",
        "from sklearn.model_selection import train_test_split"
      ],
      "execution_count": null,
      "outputs": []
    },
    {
      "cell_type": "code",
      "metadata": {
        "id": "A1FSctyKQk5v"
      },
      "source": [
        "from scipy.stats import norm\n",
        "import scipy.stats as measures"
      ],
      "execution_count": null,
      "outputs": []
    },
    {
      "cell_type": "code",
      "metadata": {
        "id": "SfdqaW-RofxD"
      },
      "source": [
        "import matplotlib.pyplot as plt\n",
        "import seaborn as sns"
      ],
      "execution_count": null,
      "outputs": []
    },
    {
      "cell_type": "code",
      "metadata": {
        "id": "GxHZ59TPiBHJ"
      },
      "source": [
        "%matplotlib inline \n",
        "plt.rcParams['figure.figsize'] = (12, 8)\n",
        "plt.rcParams['font.family'] = 'sans-serif'"
      ],
      "execution_count": null,
      "outputs": []
    },
    {
      "cell_type": "code",
      "metadata": {
        "id": "6rDMkki5J9m8"
      },
      "source": [
        "plt.rc('font', size=24)          # controls default text sizes\n",
        "plt.rc('axes', titlesize=28)     # fontsize of the axes title\n",
        "plt.rc('axes', labelsize=28)    # fontsize of the x and y labels\n",
        "plt.rc('xtick', labelsize=24)    # fontsize of the tick labels\n",
        "plt.rc('ytick', labelsize=24)    # fontsize of the tick labels\n",
        "plt.rc('legend', fontsize=24)    # legend fontsize\n",
        "plt.rc('figure', titlesize=28)  # fontsize of the figure title"
      ],
      "execution_count": null,
      "outputs": []
    },
    {
      "cell_type": "code",
      "metadata": {
        "id": "tYnQQK4s0oVa"
      },
      "source": [
        "from datetime import date"
      ],
      "execution_count": null,
      "outputs": []
    },
    {
      "cell_type": "code",
      "metadata": {
        "id": "z5U8m2zikhil"
      },
      "source": [
        "import math"
      ],
      "execution_count": null,
      "outputs": []
    },
    {
      "cell_type": "code",
      "metadata": {
        "colab": {
          "base_uri": "https://localhost:8080/"
        },
        "id": "bFw_xB42Tp3H",
        "outputId": "258a4c06-658b-4d6f-8ed3-3f6c3d6d7783"
      },
      "source": [
        "# from google.colab import drive\n",
        "# drive.mount('/content/drive')"
      ],
      "execution_count": null,
      "outputs": [
        {
          "output_type": "stream",
          "text": [
            "Mounted at /content/drive\n"
          ],
          "name": "stdout"
        }
      ]
    },
    {
      "cell_type": "markdown",
      "metadata": {
        "id": "_rzDa_PA7OYB"
      },
      "source": [
        "## Utility Functions"
      ]
    },
    {
      "cell_type": "code",
      "metadata": {
        "id": "_FKEngKf5upJ"
      },
      "source": [
        "months = {'Jan': 1, 'Feb': 2, 'Mar': 3, 'Apr': 4, 'May': 5, 'Jun': 6, 'Jul': 7, 'Aug': 8, 'Sep': 9, 'Oct': 10, 'Nov': 11, 'Dec': 12}"
      ],
      "execution_count": null,
      "outputs": []
    },
    {
      "cell_type": "code",
      "metadata": {
        "id": "Z2ioInFvwhFH"
      },
      "source": [
        "def get_interest_rate(row):\n",
        "  dur = row['date_ndiff']\n",
        "  if dur <= 91:\n",
        "        select = '3M'\n",
        "  elif dur <= 182:\n",
        "      select = '6M'\n",
        "  elif dur <= 365:\n",
        "      select = '1Y'\n",
        "  elif dur <= 730:\n",
        "      select = '2Y'\n",
        "  elif dur <= 1095:\n",
        "      select = '3Y'\n",
        "  elif dur <= 1461:\n",
        "      select = '4Y'\n",
        "  elif dur <= 1460:\n",
        "      select = '5Y'\n",
        "  elif dur <= 1826:\n",
        "      select = '6Y'\n",
        "  elif dur <= 2191:\n",
        "      select = '7Y'\n",
        "  elif dur <= 2556:\n",
        "      select = '8Y'\n",
        "  elif dur <= 2922:\n",
        "      select = '9Y'\n",
        "  elif dur <= 3287:\n",
        "      select = '10Y'\n",
        "  elif dur <= 3652:\n",
        "      select = '11Y'\n",
        "  elif dur <= 3975:\n",
        "      select = '12Y'\n",
        "  elif dur <= 4018:\n",
        "      select = '13Y'\n",
        "  elif dur <= 4363:\n",
        "      select = '14Y'\n",
        "  elif dur <= 4748:\n",
        "      select = '15Y'\n",
        "  elif dur <= 6209:\n",
        "      select = '19Y'\n",
        "  elif dur <= 8035:\n",
        "      select = '24Y'\n",
        "  else:\n",
        "      select = '30Y'\n",
        "  return interest_rate[select][len(interest_rate.index)-1]"
      ],
      "execution_count": null,
      "outputs": []
    },
    {
      "cell_type": "code",
      "metadata": {
        "id": "dd4st0-mQ-Sy"
      },
      "source": [
        "def date_format_change(row):\n",
        "  d1 = row['Date']\n",
        "  month, day, year = d1[0:3], d1[4:6], d1[8:]\n",
        "  d2 = day+'-'+month+'-'+year\n",
        "  return d2"
      ],
      "execution_count": null,
      "outputs": []
    },
    {
      "cell_type": "code",
      "metadata": {
        "id": "BNzotrKkTSir"
      },
      "source": [
        "def get_interest_rate(row):\n",
        "  dur = row['date_ndiff']\n",
        "  if dur <= 91:\n",
        "        select = '3mo'\n",
        "  elif dur <= 182:\n",
        "      select = '6mo'\n",
        "  elif dur <= 365:\n",
        "      select = '1yr'\n",
        "  elif dur <= 730:\n",
        "      select = '2yr'\n",
        "  elif dur <= 1095:\n",
        "      select = '3yr'\n",
        "  elif dur <= 1461:\n",
        "      select = '4yr'\n",
        "  else:\n",
        "      select = '5yr'\n",
        "  return row[select]"
      ],
      "execution_count": null,
      "outputs": []
    },
    {
      "cell_type": "code",
      "metadata": {
        "id": "ayhYFwZA_NWT"
      },
      "source": [
        "def date_diff(row):\n",
        "    start = str(row['Date'])\n",
        "    end = str(row['Expiry'])\n",
        "    s_day, s_month, s_year = start[:2], start[3:6], start[7:]\n",
        "    e_day, e_month, e_year = end[:2], end[3:6], end[7:]\n",
        "    s_month = months[s_month]\n",
        "    e_month = months[e_month]\n",
        "    \n",
        "    return date(int(e_year), e_month, int(e_day)) - date(int(s_year), s_month, int(s_day))\n",
        "\n",
        "def numeric_date(row):\n",
        "    return int(str(row['date_diff']).split()[0])"
      ],
      "execution_count": null,
      "outputs": []
    },
    {
      "cell_type": "code",
      "metadata": {
        "id": "yOgymuaIdR1n"
      },
      "source": [
        "def historical_volitlity(returns):\n",
        "    mean = np.mean(returns)\n",
        "    n = len(returns) \n",
        "    return math.sqrt(np.sum((returns-mean)**2)/(n-1))"
      ],
      "execution_count": null,
      "outputs": []
    },
    {
      "cell_type": "code",
      "metadata": {
        "id": "TAn6NU7zgG7C"
      },
      "source": [
        "def calibrated_volitlity(returns):\n",
        "    mean = np.mean(returns)\n",
        "    n = len(returns) \n",
        "    return np.std(returns-mean)"
      ],
      "execution_count": null,
      "outputs": []
    },
    {
      "cell_type": "code",
      "metadata": {
        "id": "3WAcMvC_hkwG"
      },
      "source": [
        "def delta_t(row):\n",
        "    end = str(row['Date'])\n",
        "    start = str(row['delta_t'])\n",
        "    # print(start))\n",
        "    if start == \"nan\":\n",
        "        return np.nan\n",
        "    start = str(start)\n",
        "    s_day, s_month, s_year = start[:2], start[3:6], start[7:]\n",
        "    e_day, e_month, e_year = end[:2], end[3:6], end[7:]\n",
        "    s_month = months[s_month]\n",
        "    e_month = months[e_month]\n",
        "    differ = date(int(e_year), e_month, int(e_day)) - date(int(s_year), s_month, int(s_day))\n",
        "   \n",
        "    return int(str(differ).split()[0]) / 365"
      ],
      "execution_count": null,
      "outputs": []
    },
    {
      "cell_type": "markdown",
      "metadata": {
        "id": "gNVcRcp-7diM"
      },
      "source": [
        "## Dropping columns\n",
        "This step involved removing unnecessary columns"
      ]
    },
    {
      "cell_type": "code",
      "metadata": {
        "colab": {
          "base_uri": "https://localhost:8080/"
        },
        "id": "vtB7Z_e4Tqmd",
        "outputId": "ee4e5f75-f175-4f7b-dccd-501ded39be85"
      },
      "source": [
        "df = pd.read_csv(\"NIFTY_PE.csv\")"
      ],
      "execution_count": null,
      "outputs": [
        {
          "output_type": "stream",
          "text": [
            "/usr/local/lib/python3.7/dist-packages/IPython/core/interactiveshell.py:2718: DtypeWarning: Columns (13,16) have mixed types.Specify dtype option on import or set low_memory=False.\n",
            "  interactivity=interactivity, compiler=compiler, result=result)\n"
          ],
          "name": "stderr"
        }
      ]
    },
    {
      "cell_type": "code",
      "metadata": {
        "id": "lbsAhCaK3Qag"
      },
      "source": [
        "# df = pd.read_csv('NIFTY_PE.csv',engine='python',encoding='UTF-8')"
      ],
      "execution_count": null,
      "outputs": []
    },
    {
      "cell_type": "code",
      "metadata": {
        "id": "LBVgT2toFZ0-"
      },
      "source": [
        "df = df.dropna()"
      ],
      "execution_count": null,
      "outputs": []
    },
    {
      "cell_type": "code",
      "metadata": {
        "colab": {
          "base_uri": "https://localhost:8080/",
          "height": 288
        },
        "id": "zlLHT3R4sC84",
        "outputId": "e839804d-6094-41e9-8a19-031c2e7d6126"
      },
      "source": [
        "df.tail()"
      ],
      "execution_count": null,
      "outputs": [
        {
          "output_type": "execute_result",
          "data": {
            "text/html": [
              "<div>\n",
              "<style scoped>\n",
              "    .dataframe tbody tr th:only-of-type {\n",
              "        vertical-align: middle;\n",
              "    }\n",
              "\n",
              "    .dataframe tbody tr th {\n",
              "        vertical-align: top;\n",
              "    }\n",
              "\n",
              "    .dataframe thead th {\n",
              "        text-align: right;\n",
              "    }\n",
              "</style>\n",
              "<table border=\"1\" class=\"dataframe\">\n",
              "  <thead>\n",
              "    <tr style=\"text-align: right;\">\n",
              "      <th></th>\n",
              "      <th>Symbol</th>\n",
              "      <th>Date</th>\n",
              "      <th>Expiry</th>\n",
              "      <th>Option Type</th>\n",
              "      <th>Strike Price</th>\n",
              "      <th>Open</th>\n",
              "      <th>High</th>\n",
              "      <th>Low</th>\n",
              "      <th>Close</th>\n",
              "      <th>LTP</th>\n",
              "      <th>Settle Price</th>\n",
              "      <th>No. of contracts</th>\n",
              "      <th>Turnover in Lacs</th>\n",
              "      <th>Premium Turnover in Lacs</th>\n",
              "      <th>Open Int</th>\n",
              "      <th>Change in OI</th>\n",
              "      <th>Underlying Value</th>\n",
              "    </tr>\n",
              "  </thead>\n",
              "  <tbody>\n",
              "    <tr>\n",
              "      <th>62073</th>\n",
              "      <td>NIFTY</td>\n",
              "      <td>28-Jan-2015</td>\n",
              "      <td>29-Jan-2015</td>\n",
              "      <td>PE</td>\n",
              "      <td>7400</td>\n",
              "      <td>0.25</td>\n",
              "      <td>0.6</td>\n",
              "      <td>0.25</td>\n",
              "      <td>0.45</td>\n",
              "      <td>0.40</td>\n",
              "      <td>0.45</td>\n",
              "      <td>1113</td>\n",
              "      <td>2059.18</td>\n",
              "      <td>-</td>\n",
              "      <td>360800</td>\n",
              "      <td>-17875</td>\n",
              "      <td>8914.3</td>\n",
              "    </tr>\n",
              "    <tr>\n",
              "      <th>62074</th>\n",
              "      <td>NIFTY</td>\n",
              "      <td>28-Jan-2015</td>\n",
              "      <td>29-Jan-2015</td>\n",
              "      <td>PE</td>\n",
              "      <td>6850</td>\n",
              "      <td>0.00</td>\n",
              "      <td>0.0</td>\n",
              "      <td>0.00</td>\n",
              "      <td>0.95</td>\n",
              "      <td>0.00</td>\n",
              "      <td>0.00</td>\n",
              "      <td>0</td>\n",
              "      <td>0.00</td>\n",
              "      <td>-</td>\n",
              "      <td>0</td>\n",
              "      <td>0</td>\n",
              "      <td>8914.3</td>\n",
              "    </tr>\n",
              "    <tr>\n",
              "      <th>62075</th>\n",
              "      <td>NIFTY</td>\n",
              "      <td>28-Jan-2015</td>\n",
              "      <td>29-Jan-2015</td>\n",
              "      <td>PE</td>\n",
              "      <td>6900</td>\n",
              "      <td>0.20</td>\n",
              "      <td>0.3</td>\n",
              "      <td>0.20</td>\n",
              "      <td>0.25</td>\n",
              "      <td>0.25</td>\n",
              "      <td>0.25</td>\n",
              "      <td>10</td>\n",
              "      <td>17.25</td>\n",
              "      <td>-</td>\n",
              "      <td>3925</td>\n",
              "      <td>-75</td>\n",
              "      <td>8914.3</td>\n",
              "    </tr>\n",
              "    <tr>\n",
              "      <th>62076</th>\n",
              "      <td>NIFTY</td>\n",
              "      <td>28-Jan-2015</td>\n",
              "      <td>29-Jan-2015</td>\n",
              "      <td>PE</td>\n",
              "      <td>6950</td>\n",
              "      <td>0.00</td>\n",
              "      <td>0.0</td>\n",
              "      <td>0.00</td>\n",
              "      <td>1.75</td>\n",
              "      <td>0.00</td>\n",
              "      <td>0.00</td>\n",
              "      <td>0</td>\n",
              "      <td>0.00</td>\n",
              "      <td>-</td>\n",
              "      <td>0</td>\n",
              "      <td>0</td>\n",
              "      <td>8914.3</td>\n",
              "    </tr>\n",
              "    <tr>\n",
              "      <th>62077</th>\n",
              "      <td>NIFTY</td>\n",
              "      <td>28-Jan-2015</td>\n",
              "      <td>29-Jan-2015</td>\n",
              "      <td>PE</td>\n",
              "      <td>7000</td>\n",
              "      <td>0.60</td>\n",
              "      <td>0.6</td>\n",
              "      <td>0.20</td>\n",
              "      <td>0.40</td>\n",
              "      <td>0.35</td>\n",
              "      <td>0.40</td>\n",
              "      <td>3637</td>\n",
              "      <td>6365.15</td>\n",
              "      <td>-</td>\n",
              "      <td>169725</td>\n",
              "      <td>-26100</td>\n",
              "      <td>8914.3</td>\n",
              "    </tr>\n",
              "  </tbody>\n",
              "</table>\n",
              "</div>"
            ],
            "text/plain": [
              "      Symbol         Date  ... Change in OI Underlying Value\n",
              "62073  NIFTY  28-Jan-2015  ...       -17875           8914.3\n",
              "62074  NIFTY  28-Jan-2015  ...            0           8914.3\n",
              "62075  NIFTY  28-Jan-2015  ...          -75           8914.3\n",
              "62076  NIFTY  28-Jan-2015  ...            0           8914.3\n",
              "62077  NIFTY  28-Jan-2015  ...       -26100           8914.3\n",
              "\n",
              "[5 rows x 17 columns]"
            ]
          },
          "metadata": {
            "tags": []
          },
          "execution_count": 78
        }
      ]
    },
    {
      "cell_type": "code",
      "metadata": {
        "id": "kxVX00OsDFuk"
      },
      "source": [
        "df = df.drop(['Symbol','Option Type','Open','High','Low','LTP','Settle Price','No. of contracts','Turnover in Lacs', 'Premium Turnover in Lacs','Open Int','Change in OI'], axis=1)"
      ],
      "execution_count": null,
      "outputs": []
    },
    {
      "cell_type": "code",
      "metadata": {
        "id": "NofBTXfLEY8k",
        "colab": {
          "base_uri": "https://localhost:8080/",
          "height": 191
        },
        "outputId": "674e477f-876b-41f3-b693-7b70ceeb72b5"
      },
      "source": [
        "df.head()"
      ],
      "execution_count": null,
      "outputs": [
        {
          "output_type": "execute_result",
          "data": {
            "text/html": [
              "<div>\n",
              "<style scoped>\n",
              "    .dataframe tbody tr th:only-of-type {\n",
              "        vertical-align: middle;\n",
              "    }\n",
              "\n",
              "    .dataframe tbody tr th {\n",
              "        vertical-align: top;\n",
              "    }\n",
              "\n",
              "    .dataframe thead th {\n",
              "        text-align: right;\n",
              "    }\n",
              "</style>\n",
              "<table border=\"1\" class=\"dataframe\">\n",
              "  <thead>\n",
              "    <tr style=\"text-align: right;\">\n",
              "      <th></th>\n",
              "      <th>Date</th>\n",
              "      <th>Expiry</th>\n",
              "      <th>Strike Price</th>\n",
              "      <th>Close</th>\n",
              "      <th>Underlying Value</th>\n",
              "    </tr>\n",
              "  </thead>\n",
              "  <tbody>\n",
              "    <tr>\n",
              "      <th>0</th>\n",
              "      <td>03-Nov-2014</td>\n",
              "      <td>27-Nov-2014</td>\n",
              "      <td>8950</td>\n",
              "      <td>1014.55</td>\n",
              "      <td>8324.15</td>\n",
              "    </tr>\n",
              "    <tr>\n",
              "      <th>1</th>\n",
              "      <td>03-Nov-2014</td>\n",
              "      <td>27-Nov-2014</td>\n",
              "      <td>9000</td>\n",
              "      <td>629.35</td>\n",
              "      <td>8324.15</td>\n",
              "    </tr>\n",
              "    <tr>\n",
              "      <th>2</th>\n",
              "      <td>03-Nov-2014</td>\n",
              "      <td>27-Nov-2014</td>\n",
              "      <td>8700</td>\n",
              "      <td>340.45</td>\n",
              "      <td>8324.15</td>\n",
              "    </tr>\n",
              "    <tr>\n",
              "      <th>3</th>\n",
              "      <td>03-Nov-2014</td>\n",
              "      <td>27-Nov-2014</td>\n",
              "      <td>8750</td>\n",
              "      <td>645.15</td>\n",
              "      <td>8324.15</td>\n",
              "    </tr>\n",
              "    <tr>\n",
              "      <th>4</th>\n",
              "      <td>03-Nov-2014</td>\n",
              "      <td>27-Nov-2014</td>\n",
              "      <td>8800</td>\n",
              "      <td>411.70</td>\n",
              "      <td>8324.15</td>\n",
              "    </tr>\n",
              "  </tbody>\n",
              "</table>\n",
              "</div>"
            ],
            "text/plain": [
              "          Date       Expiry  Strike Price    Close Underlying Value\n",
              "0  03-Nov-2014  27-Nov-2014          8950  1014.55          8324.15\n",
              "1  03-Nov-2014  27-Nov-2014          9000   629.35          8324.15\n",
              "2  03-Nov-2014  27-Nov-2014          8700   340.45          8324.15\n",
              "3  03-Nov-2014  27-Nov-2014          8750   645.15          8324.15\n",
              "4  03-Nov-2014  27-Nov-2014          8800   411.70          8324.15"
            ]
          },
          "metadata": {
            "tags": []
          },
          "execution_count": 152
        }
      ]
    },
    {
      "cell_type": "markdown",
      "metadata": {
        "id": "nE7oGtKP7n48"
      },
      "source": [
        "## Calculate days to expiry"
      ]
    },
    {
      "cell_type": "code",
      "metadata": {
        "id": "UZMQIplsFPZt"
      },
      "source": [
        "df['date_diff'] = df.apply(lambda row: date_diff(row), axis=1)"
      ],
      "execution_count": null,
      "outputs": []
    },
    {
      "cell_type": "code",
      "metadata": {
        "id": "5Oqt0St1FPZ0"
      },
      "source": [
        "df['date_ndiff'] = df.apply(lambda row: numeric_date(row), axis=1)\n",
        "df = df.drop('date_diff', axis=1)"
      ],
      "execution_count": null,
      "outputs": []
    },
    {
      "cell_type": "code",
      "metadata": {
        "id": "DFT73HHhF2ib"
      },
      "source": [
        "df = df.drop(['Expiry'], axis=1)"
      ],
      "execution_count": null,
      "outputs": []
    },
    {
      "cell_type": "markdown",
      "metadata": {
        "id": "swKV-6yC65f_"
      },
      "source": [
        "## Underlying\n",
        "This step invloved separating the underlying asset price for calculating features like log returns, historical volatility, calibrated volatility, delta_t"
      ]
    },
    {
      "cell_type": "code",
      "metadata": {
        "id": "h2yv72kKGh6s"
      },
      "source": [
        "underlying = df[['Date', 'Underlying Value']]"
      ],
      "execution_count": null,
      "outputs": []
    },
    {
      "cell_type": "code",
      "metadata": {
        "id": "fYeOOT8LGu5K"
      },
      "source": [
        "underlying = underlying.drop_duplicates()"
      ],
      "execution_count": null,
      "outputs": []
    },
    {
      "cell_type": "code",
      "metadata": {
        "id": "Y8wCXypyH4G2"
      },
      "source": [
        "underlying = underlying.rename(columns={'Underlying Value': 'stock_price'})"
      ],
      "execution_count": null,
      "outputs": []
    },
    {
      "cell_type": "code",
      "metadata": {
        "id": "U41F43oNISGI"
      },
      "source": [
        "underlying['stock_price'] = pd.to_numeric(underlying['stock_price'], errors='coerce')"
      ],
      "execution_count": null,
      "outputs": []
    },
    {
      "cell_type": "code",
      "metadata": {
        "id": "v_enT-rnIcjt"
      },
      "source": [
        "underlying = underlying.dropna()"
      ],
      "execution_count": null,
      "outputs": []
    },
    {
      "cell_type": "code",
      "metadata": {
        "id": "sExa1lcoZSKV"
      },
      "source": [
        "underlying['log_ret'] = np.log(underlying['stock_price']) - np.log(underlying['stock_price'].shift(1))"
      ],
      "execution_count": null,
      "outputs": []
    },
    {
      "cell_type": "code",
      "metadata": {
        "id": "WB0iL_jPH0yr"
      },
      "source": [
        "underlying['sigma_20'] = underlying['log_ret'].rolling(19).apply(lambda x: historical_volitlity(x))"
      ],
      "execution_count": null,
      "outputs": []
    },
    {
      "cell_type": "code",
      "metadata": {
        "id": "rYTKVxmyho3q"
      },
      "source": [
        "underlying['cal_sig_20'] = underlying['log_ret'].rolling(19).apply(lambda x: calibrated_volitlity(x))"
      ],
      "execution_count": null,
      "outputs": []
    },
    {
      "cell_type": "code",
      "metadata": {
        "id": "b3xwSrFchtSD"
      },
      "source": [
        "underlying['delta_t'] = underlying['Date'].shift(19)"
      ],
      "execution_count": null,
      "outputs": []
    },
    {
      "cell_type": "code",
      "metadata": {
        "id": "EXjeOOQ_h1cE"
      },
      "source": [
        "underlying['delta_t'] = underlying.apply(lambda x: delta_t(x), axis=1)"
      ],
      "execution_count": null,
      "outputs": []
    },
    {
      "cell_type": "code",
      "metadata": {
        "id": "j-xI2Wvah2J7"
      },
      "source": [
        "underlying['cal_sig_20'] = underlying.apply(lambda row: row['cal_sig_20']/math.sqrt(row['delta_t']), axis=1) "
      ],
      "execution_count": null,
      "outputs": []
    },
    {
      "cell_type": "code",
      "metadata": {
        "id": "KNFqRSkO_Uyq"
      },
      "source": [
        "underlying = underlying.dropna()"
      ],
      "execution_count": null,
      "outputs": []
    },
    {
      "cell_type": "code",
      "metadata": {
        "colab": {
          "base_uri": "https://localhost:8080/",
          "height": 191
        },
        "id": "6JGLd0U39xNn",
        "outputId": "a698cfc0-e339-44ee-f001-6072695b0fb1"
      },
      "source": [
        "underlying.head()"
      ],
      "execution_count": null,
      "outputs": [
        {
          "output_type": "execute_result",
          "data": {
            "text/html": [
              "<div>\n",
              "<style scoped>\n",
              "    .dataframe tbody tr th:only-of-type {\n",
              "        vertical-align: middle;\n",
              "    }\n",
              "\n",
              "    .dataframe tbody tr th {\n",
              "        vertical-align: top;\n",
              "    }\n",
              "\n",
              "    .dataframe thead th {\n",
              "        text-align: right;\n",
              "    }\n",
              "</style>\n",
              "<table border=\"1\" class=\"dataframe\">\n",
              "  <thead>\n",
              "    <tr style=\"text-align: right;\">\n",
              "      <th></th>\n",
              "      <th>Date</th>\n",
              "      <th>stock_price</th>\n",
              "      <th>log_ret</th>\n",
              "      <th>sigma_20</th>\n",
              "      <th>cal_sig_20</th>\n",
              "      <th>delta_t</th>\n",
              "    </tr>\n",
              "  </thead>\n",
              "  <tbody>\n",
              "    <tr>\n",
              "      <th>20229</th>\n",
              "      <td>02-Dec-2014</td>\n",
              "      <td>8524.70</td>\n",
              "      <td>-0.003653</td>\n",
              "      <td>0.004723</td>\n",
              "      <td>0.016309</td>\n",
              "      <td>0.079452</td>\n",
              "    </tr>\n",
              "    <tr>\n",
              "      <th>21309</th>\n",
              "      <td>03-Dec-2014</td>\n",
              "      <td>8537.65</td>\n",
              "      <td>0.001518</td>\n",
              "      <td>0.004722</td>\n",
              "      <td>0.016595</td>\n",
              "      <td>0.076712</td>\n",
              "    </tr>\n",
              "    <tr>\n",
              "      <th>22389</th>\n",
              "      <td>04-Dec-2014</td>\n",
              "      <td>8564.40</td>\n",
              "      <td>0.003128</td>\n",
              "      <td>0.004728</td>\n",
              "      <td>0.016921</td>\n",
              "      <td>0.073973</td>\n",
              "    </tr>\n",
              "    <tr>\n",
              "      <th>23469</th>\n",
              "      <td>05-Dec-2014</td>\n",
              "      <td>8538.30</td>\n",
              "      <td>-0.003052</td>\n",
              "      <td>0.004838</td>\n",
              "      <td>0.017992</td>\n",
              "      <td>0.068493</td>\n",
              "    </tr>\n",
              "    <tr>\n",
              "      <th>24549</th>\n",
              "      <td>08-Dec-2014</td>\n",
              "      <td>8438.25</td>\n",
              "      <td>-0.011787</td>\n",
              "      <td>0.005671</td>\n",
              "      <td>0.020295</td>\n",
              "      <td>0.073973</td>\n",
              "    </tr>\n",
              "  </tbody>\n",
              "</table>\n",
              "</div>"
            ],
            "text/plain": [
              "              Date  stock_price   log_ret  sigma_20  cal_sig_20   delta_t\n",
              "20229  02-Dec-2014      8524.70 -0.003653  0.004723    0.016309  0.079452\n",
              "21309  03-Dec-2014      8537.65  0.001518  0.004722    0.016595  0.076712\n",
              "22389  04-Dec-2014      8564.40  0.003128  0.004728    0.016921  0.073973\n",
              "23469  05-Dec-2014      8538.30 -0.003052  0.004838    0.017992  0.068493\n",
              "24549  08-Dec-2014      8438.25 -0.011787  0.005671    0.020295  0.073973"
            ]
          },
          "metadata": {
            "tags": []
          },
          "execution_count": 168
        }
      ]
    },
    {
      "cell_type": "code",
      "metadata": {
        "id": "Jd4SEnp9Ja22"
      },
      "source": [
        "option = df.merge(underlying, how='left', on='Date')"
      ],
      "execution_count": null,
      "outputs": []
    },
    {
      "cell_type": "code",
      "metadata": {
        "id": "kPjgMw79J6tq"
      },
      "source": [
        "option = option.dropna()"
      ],
      "execution_count": null,
      "outputs": []
    },
    {
      "cell_type": "code",
      "metadata": {
        "id": "IcERoXtMKGQ1",
        "colab": {
          "base_uri": "https://localhost:8080/",
          "height": 191
        },
        "outputId": "6264cf72-dfa0-47b5-e645-75eef487d4da"
      },
      "source": [
        "option.head()"
      ],
      "execution_count": null,
      "outputs": [
        {
          "output_type": "execute_result",
          "data": {
            "text/html": [
              "<div>\n",
              "<style scoped>\n",
              "    .dataframe tbody tr th:only-of-type {\n",
              "        vertical-align: middle;\n",
              "    }\n",
              "\n",
              "    .dataframe tbody tr th {\n",
              "        vertical-align: top;\n",
              "    }\n",
              "\n",
              "    .dataframe thead th {\n",
              "        text-align: right;\n",
              "    }\n",
              "</style>\n",
              "<table border=\"1\" class=\"dataframe\">\n",
              "  <thead>\n",
              "    <tr style=\"text-align: right;\">\n",
              "      <th></th>\n",
              "      <th>Date</th>\n",
              "      <th>Strike Price</th>\n",
              "      <th>Close</th>\n",
              "      <th>Underlying Value</th>\n",
              "      <th>date_ndiff</th>\n",
              "      <th>stock_price</th>\n",
              "      <th>log_ret</th>\n",
              "      <th>sigma_20</th>\n",
              "      <th>cal_sig_20</th>\n",
              "      <th>delta_t</th>\n",
              "    </tr>\n",
              "  </thead>\n",
              "  <tbody>\n",
              "    <tr>\n",
              "      <th>20229</th>\n",
              "      <td>02-Dec-2014</td>\n",
              "      <td>9550</td>\n",
              "      <td>1064.50</td>\n",
              "      <td>8524.7</td>\n",
              "      <td>22</td>\n",
              "      <td>8524.7</td>\n",
              "      <td>-0.003653</td>\n",
              "      <td>0.004723</td>\n",
              "      <td>0.016309</td>\n",
              "      <td>0.079452</td>\n",
              "    </tr>\n",
              "    <tr>\n",
              "      <th>20230</th>\n",
              "      <td>02-Dec-2014</td>\n",
              "      <td>9600</td>\n",
              "      <td>1918.40</td>\n",
              "      <td>8524.7</td>\n",
              "      <td>22</td>\n",
              "      <td>8524.7</td>\n",
              "      <td>-0.003653</td>\n",
              "      <td>0.004723</td>\n",
              "      <td>0.016309</td>\n",
              "      <td>0.079452</td>\n",
              "    </tr>\n",
              "    <tr>\n",
              "      <th>20231</th>\n",
              "      <td>02-Dec-2014</td>\n",
              "      <td>9650</td>\n",
              "      <td>1279.00</td>\n",
              "      <td>8524.7</td>\n",
              "      <td>22</td>\n",
              "      <td>8524.7</td>\n",
              "      <td>-0.003653</td>\n",
              "      <td>0.004723</td>\n",
              "      <td>0.016309</td>\n",
              "      <td>0.079452</td>\n",
              "    </tr>\n",
              "    <tr>\n",
              "      <th>20232</th>\n",
              "      <td>02-Dec-2014</td>\n",
              "      <td>9700</td>\n",
              "      <td>1952.65</td>\n",
              "      <td>8524.7</td>\n",
              "      <td>22</td>\n",
              "      <td>8524.7</td>\n",
              "      <td>-0.003653</td>\n",
              "      <td>0.004723</td>\n",
              "      <td>0.016309</td>\n",
              "      <td>0.079452</td>\n",
              "    </tr>\n",
              "    <tr>\n",
              "      <th>20233</th>\n",
              "      <td>02-Dec-2014</td>\n",
              "      <td>9750</td>\n",
              "      <td>1162.40</td>\n",
              "      <td>8524.7</td>\n",
              "      <td>22</td>\n",
              "      <td>8524.7</td>\n",
              "      <td>-0.003653</td>\n",
              "      <td>0.004723</td>\n",
              "      <td>0.016309</td>\n",
              "      <td>0.079452</td>\n",
              "    </tr>\n",
              "  </tbody>\n",
              "</table>\n",
              "</div>"
            ],
            "text/plain": [
              "              Date  Strike Price    Close  ...  sigma_20  cal_sig_20   delta_t\n",
              "20229  02-Dec-2014          9550  1064.50  ...  0.004723    0.016309  0.079452\n",
              "20230  02-Dec-2014          9600  1918.40  ...  0.004723    0.016309  0.079452\n",
              "20231  02-Dec-2014          9650  1279.00  ...  0.004723    0.016309  0.079452\n",
              "20232  02-Dec-2014          9700  1952.65  ...  0.004723    0.016309  0.079452\n",
              "20233  02-Dec-2014          9750  1162.40  ...  0.004723    0.016309  0.079452\n",
              "\n",
              "[5 rows x 10 columns]"
            ]
          },
          "metadata": {
            "tags": []
          },
          "execution_count": 171
        }
      ]
    },
    {
      "cell_type": "code",
      "metadata": {
        "id": "oNHlFrsDKPj3",
        "colab": {
          "base_uri": "https://localhost:8080/",
          "height": 191
        },
        "outputId": "848a3e33-0419-405b-8ad5-5b90e5d09e7b"
      },
      "source": [
        "option = option.drop(columns=['Underlying Value'])\n",
        "option.head()"
      ],
      "execution_count": null,
      "outputs": [
        {
          "output_type": "execute_result",
          "data": {
            "text/html": [
              "<div>\n",
              "<style scoped>\n",
              "    .dataframe tbody tr th:only-of-type {\n",
              "        vertical-align: middle;\n",
              "    }\n",
              "\n",
              "    .dataframe tbody tr th {\n",
              "        vertical-align: top;\n",
              "    }\n",
              "\n",
              "    .dataframe thead th {\n",
              "        text-align: right;\n",
              "    }\n",
              "</style>\n",
              "<table border=\"1\" class=\"dataframe\">\n",
              "  <thead>\n",
              "    <tr style=\"text-align: right;\">\n",
              "      <th></th>\n",
              "      <th>Date</th>\n",
              "      <th>Strike Price</th>\n",
              "      <th>Close</th>\n",
              "      <th>date_ndiff</th>\n",
              "      <th>stock_price</th>\n",
              "      <th>log_ret</th>\n",
              "      <th>sigma_20</th>\n",
              "      <th>cal_sig_20</th>\n",
              "      <th>delta_t</th>\n",
              "    </tr>\n",
              "  </thead>\n",
              "  <tbody>\n",
              "    <tr>\n",
              "      <th>20229</th>\n",
              "      <td>02-Dec-2014</td>\n",
              "      <td>9550</td>\n",
              "      <td>1064.50</td>\n",
              "      <td>22</td>\n",
              "      <td>8524.7</td>\n",
              "      <td>-0.003653</td>\n",
              "      <td>0.004723</td>\n",
              "      <td>0.016309</td>\n",
              "      <td>0.079452</td>\n",
              "    </tr>\n",
              "    <tr>\n",
              "      <th>20230</th>\n",
              "      <td>02-Dec-2014</td>\n",
              "      <td>9600</td>\n",
              "      <td>1918.40</td>\n",
              "      <td>22</td>\n",
              "      <td>8524.7</td>\n",
              "      <td>-0.003653</td>\n",
              "      <td>0.004723</td>\n",
              "      <td>0.016309</td>\n",
              "      <td>0.079452</td>\n",
              "    </tr>\n",
              "    <tr>\n",
              "      <th>20231</th>\n",
              "      <td>02-Dec-2014</td>\n",
              "      <td>9650</td>\n",
              "      <td>1279.00</td>\n",
              "      <td>22</td>\n",
              "      <td>8524.7</td>\n",
              "      <td>-0.003653</td>\n",
              "      <td>0.004723</td>\n",
              "      <td>0.016309</td>\n",
              "      <td>0.079452</td>\n",
              "    </tr>\n",
              "    <tr>\n",
              "      <th>20232</th>\n",
              "      <td>02-Dec-2014</td>\n",
              "      <td>9700</td>\n",
              "      <td>1952.65</td>\n",
              "      <td>22</td>\n",
              "      <td>8524.7</td>\n",
              "      <td>-0.003653</td>\n",
              "      <td>0.004723</td>\n",
              "      <td>0.016309</td>\n",
              "      <td>0.079452</td>\n",
              "    </tr>\n",
              "    <tr>\n",
              "      <th>20233</th>\n",
              "      <td>02-Dec-2014</td>\n",
              "      <td>9750</td>\n",
              "      <td>1162.40</td>\n",
              "      <td>22</td>\n",
              "      <td>8524.7</td>\n",
              "      <td>-0.003653</td>\n",
              "      <td>0.004723</td>\n",
              "      <td>0.016309</td>\n",
              "      <td>0.079452</td>\n",
              "    </tr>\n",
              "  </tbody>\n",
              "</table>\n",
              "</div>"
            ],
            "text/plain": [
              "              Date  Strike Price    Close  ...  sigma_20  cal_sig_20   delta_t\n",
              "20229  02-Dec-2014          9550  1064.50  ...  0.004723    0.016309  0.079452\n",
              "20230  02-Dec-2014          9600  1918.40  ...  0.004723    0.016309  0.079452\n",
              "20231  02-Dec-2014          9650  1279.00  ...  0.004723    0.016309  0.079452\n",
              "20232  02-Dec-2014          9700  1952.65  ...  0.004723    0.016309  0.079452\n",
              "20233  02-Dec-2014          9750  1162.40  ...  0.004723    0.016309  0.079452\n",
              "\n",
              "[5 rows x 9 columns]"
            ]
          },
          "metadata": {
            "tags": []
          },
          "execution_count": 172
        }
      ]
    },
    {
      "cell_type": "markdown",
      "metadata": {
        "id": "jH1yM6Ci9r6-"
      },
      "source": [
        "## Interest Rate\n",
        "This step involved calculating interest rate from bond yields data"
      ]
    },
    {
      "cell_type": "code",
      "metadata": {
        "id": "T0HOfMbuKoxZ",
        "colab": {
          "base_uri": "https://localhost:8080/"
        },
        "outputId": "614eb33e-1a5e-440b-8b07-ff34494570aa"
      },
      "source": [
        "option['date_ndiff'].max()"
      ],
      "execution_count": null,
      "outputs": [
        {
          "output_type": "execute_result",
          "data": {
            "text/plain": [
              "1826"
            ]
          },
          "metadata": {
            "tags": []
          },
          "execution_count": 173
        }
      ]
    },
    {
      "cell_type": "code",
      "metadata": {
        "id": "QAIv9u_fxod4"
      },
      "source": [
        "df1yr = pd.read_csv(\"India 1-Year Bond Yield Historical Data.csv\")\n",
        "df2yr = pd.read_csv(\"India 2-Year Bond Yield Historical Data.csv\")\n",
        "df3yr = pd.read_csv(\"India 3-Year Bond Yield Historical Data.csv\")\n",
        "df4yr = pd.read_csv(\"India 4-Year Bond Yield Historical Data.csv\")\n",
        "df5yr = pd.read_csv(\"India 5-Year Bond Yield Historical Data.csv\")\n",
        "df6yr = pd.read_csv(\"India 6-Year Bond Yield Historical Data.csv\")\n",
        "df3mo = pd.read_csv(\"India 3-Month Bond Yield Historical Data.csv\") \n",
        "df6mo = pd.read_csv(\"India 6-Month Bond Yield Historical Data.csv\") "
      ],
      "execution_count": null,
      "outputs": []
    },
    {
      "cell_type": "code",
      "metadata": {
        "id": "fh18G1tC2MU3",
        "colab": {
          "base_uri": "https://localhost:8080/",
          "height": 191
        },
        "outputId": "0b24d820-40ef-4ff0-ca22-bed0e31cd13d"
      },
      "source": [
        "df1yr = df1yr.rename(columns={'Open': '1yr'})\n",
        "df1yr = df1yr[['Date', '1yr']]\n",
        "df1yr.head()"
      ],
      "execution_count": null,
      "outputs": [
        {
          "output_type": "execute_result",
          "data": {
            "text/html": [
              "<div>\n",
              "<style scoped>\n",
              "    .dataframe tbody tr th:only-of-type {\n",
              "        vertical-align: middle;\n",
              "    }\n",
              "\n",
              "    .dataframe tbody tr th {\n",
              "        vertical-align: top;\n",
              "    }\n",
              "\n",
              "    .dataframe thead th {\n",
              "        text-align: right;\n",
              "    }\n",
              "</style>\n",
              "<table border=\"1\" class=\"dataframe\">\n",
              "  <thead>\n",
              "    <tr style=\"text-align: right;\">\n",
              "      <th></th>\n",
              "      <th>Date</th>\n",
              "      <th>1yr</th>\n",
              "    </tr>\n",
              "  </thead>\n",
              "  <tbody>\n",
              "    <tr>\n",
              "      <th>0</th>\n",
              "      <td>Dec 31, 2020</td>\n",
              "      <td>3.786</td>\n",
              "    </tr>\n",
              "    <tr>\n",
              "      <th>1</th>\n",
              "      <td>Dec 30, 2020</td>\n",
              "      <td>3.773</td>\n",
              "    </tr>\n",
              "    <tr>\n",
              "      <th>2</th>\n",
              "      <td>Dec 29, 2020</td>\n",
              "      <td>3.879</td>\n",
              "    </tr>\n",
              "    <tr>\n",
              "      <th>3</th>\n",
              "      <td>Dec 28, 2020</td>\n",
              "      <td>3.802</td>\n",
              "    </tr>\n",
              "    <tr>\n",
              "      <th>4</th>\n",
              "      <td>Dec 24, 2020</td>\n",
              "      <td>3.884</td>\n",
              "    </tr>\n",
              "  </tbody>\n",
              "</table>\n",
              "</div>"
            ],
            "text/plain": [
              "           Date    1yr\n",
              "0  Dec 31, 2020  3.786\n",
              "1  Dec 30, 2020  3.773\n",
              "2  Dec 29, 2020  3.879\n",
              "3  Dec 28, 2020  3.802\n",
              "4  Dec 24, 2020  3.884"
            ]
          },
          "metadata": {
            "tags": []
          },
          "execution_count": 175
        }
      ]
    },
    {
      "cell_type": "code",
      "metadata": {
        "id": "8nSdXUYw3K_X"
      },
      "source": [
        "df2yr = df2yr.rename(columns={'Open': '2yr'})\n",
        "df2yr = df2yr[['Date', '2yr']]\n",
        "df3yr = df3yr.rename(columns={'Open': '3yr'})\n",
        "df3yr = df3yr[['Date', '3yr']]\n",
        "df4yr = df4yr.rename(columns={'Open': '4yr'})\n",
        "df4yr = df4yr[['Date', '4yr']]\n",
        "df5yr = df5yr.rename(columns={'Open': '5yr'})\n",
        "df5yr = df5yr[['Date', '5yr']]\n",
        "df6yr = df6yr.rename(columns={'Open': '6yr'})\n",
        "df6yr = df6yr[['Date', '6yr']]\n",
        "df3mo = df3mo.rename(columns={'Open': '3mo'})\n",
        "df3mo = df3mo[['Date', '3mo']]\n",
        "df6mo = df6mo.rename(columns={'Open': '6mo'})\n",
        "df6mo = df6mo[['Date', '6mo']]"
      ],
      "execution_count": null,
      "outputs": []
    },
    {
      "cell_type": "code",
      "metadata": {
        "id": "65swvD3Ay1vk",
        "colab": {
          "base_uri": "https://localhost:8080/",
          "height": 191
        },
        "outputId": "103b2e01-565c-45ce-db18-78f397530982"
      },
      "source": [
        "df_joined = df3mo.merge(df6mo, how='outer', on='Date')\n",
        "df_joined.head()"
      ],
      "execution_count": null,
      "outputs": [
        {
          "output_type": "execute_result",
          "data": {
            "text/html": [
              "<div>\n",
              "<style scoped>\n",
              "    .dataframe tbody tr th:only-of-type {\n",
              "        vertical-align: middle;\n",
              "    }\n",
              "\n",
              "    .dataframe tbody tr th {\n",
              "        vertical-align: top;\n",
              "    }\n",
              "\n",
              "    .dataframe thead th {\n",
              "        text-align: right;\n",
              "    }\n",
              "</style>\n",
              "<table border=\"1\" class=\"dataframe\">\n",
              "  <thead>\n",
              "    <tr style=\"text-align: right;\">\n",
              "      <th></th>\n",
              "      <th>Date</th>\n",
              "      <th>3mo</th>\n",
              "      <th>6mo</th>\n",
              "    </tr>\n",
              "  </thead>\n",
              "  <tbody>\n",
              "    <tr>\n",
              "      <th>0</th>\n",
              "      <td>Dec 31, 2020</td>\n",
              "      <td>3.08</td>\n",
              "      <td>3.36</td>\n",
              "    </tr>\n",
              "    <tr>\n",
              "      <th>1</th>\n",
              "      <td>Dec 30, 2020</td>\n",
              "      <td>3.11</td>\n",
              "      <td>3.36</td>\n",
              "    </tr>\n",
              "    <tr>\n",
              "      <th>2</th>\n",
              "      <td>Dec 29, 2020</td>\n",
              "      <td>3.13</td>\n",
              "      <td>3.38</td>\n",
              "    </tr>\n",
              "    <tr>\n",
              "      <th>3</th>\n",
              "      <td>Dec 28, 2020</td>\n",
              "      <td>3.13</td>\n",
              "      <td>3.37</td>\n",
              "    </tr>\n",
              "    <tr>\n",
              "      <th>4</th>\n",
              "      <td>Dec 24, 2020</td>\n",
              "      <td>3.13</td>\n",
              "      <td>3.38</td>\n",
              "    </tr>\n",
              "  </tbody>\n",
              "</table>\n",
              "</div>"
            ],
            "text/plain": [
              "           Date   3mo   6mo\n",
              "0  Dec 31, 2020  3.08  3.36\n",
              "1  Dec 30, 2020  3.11  3.36\n",
              "2  Dec 29, 2020  3.13  3.38\n",
              "3  Dec 28, 2020  3.13  3.37\n",
              "4  Dec 24, 2020  3.13  3.38"
            ]
          },
          "metadata": {
            "tags": []
          },
          "execution_count": 177
        }
      ]
    },
    {
      "cell_type": "code",
      "metadata": {
        "id": "fWkebmMBQQHQ",
        "colab": {
          "base_uri": "https://localhost:8080/"
        },
        "outputId": "6a0f2fb8-d664-4a1b-fdf8-9af812cbc344"
      },
      "source": [
        "len(df3mo)"
      ],
      "execution_count": null,
      "outputs": [
        {
          "output_type": "execute_result",
          "data": {
            "text/plain": [
              "2848"
            ]
          },
          "metadata": {
            "tags": []
          },
          "execution_count": 178
        }
      ]
    },
    {
      "cell_type": "code",
      "metadata": {
        "id": "nnTUasfn392k",
        "colab": {
          "base_uri": "https://localhost:8080/",
          "height": 191
        },
        "outputId": "114ae011-25ac-4708-d38b-c6b72d8cd4bf"
      },
      "source": [
        "df_joined = df_joined.merge(df1yr, how='outer', on='Date')\n",
        "df_joined = df_joined.merge(df2yr, how='outer', on='Date')\n",
        "df_joined = df_joined.merge(df3yr, how='outer', on='Date')\n",
        "df_joined = df_joined.merge(df4yr, how='outer', on='Date')\n",
        "df_joined = df_joined.merge(df5yr, how='outer', on='Date')\n",
        "df_joined = df_joined.merge(df6yr, how='outer', on='Date')\n",
        "df_joined.head()"
      ],
      "execution_count": null,
      "outputs": [
        {
          "output_type": "execute_result",
          "data": {
            "text/html": [
              "<div>\n",
              "<style scoped>\n",
              "    .dataframe tbody tr th:only-of-type {\n",
              "        vertical-align: middle;\n",
              "    }\n",
              "\n",
              "    .dataframe tbody tr th {\n",
              "        vertical-align: top;\n",
              "    }\n",
              "\n",
              "    .dataframe thead th {\n",
              "        text-align: right;\n",
              "    }\n",
              "</style>\n",
              "<table border=\"1\" class=\"dataframe\">\n",
              "  <thead>\n",
              "    <tr style=\"text-align: right;\">\n",
              "      <th></th>\n",
              "      <th>Date</th>\n",
              "      <th>3mo</th>\n",
              "      <th>6mo</th>\n",
              "      <th>1yr</th>\n",
              "      <th>2yr</th>\n",
              "      <th>3yr</th>\n",
              "      <th>4yr</th>\n",
              "      <th>5yr</th>\n",
              "      <th>6yr</th>\n",
              "    </tr>\n",
              "  </thead>\n",
              "  <tbody>\n",
              "    <tr>\n",
              "      <th>0</th>\n",
              "      <td>Dec 31, 2020</td>\n",
              "      <td>3.08</td>\n",
              "      <td>3.36</td>\n",
              "      <td>3.786</td>\n",
              "      <td>3.906</td>\n",
              "      <td>4.453</td>\n",
              "      <td>4.795</td>\n",
              "      <td>5.125</td>\n",
              "      <td>5.554</td>\n",
              "    </tr>\n",
              "    <tr>\n",
              "      <th>1</th>\n",
              "      <td>Dec 30, 2020</td>\n",
              "      <td>3.11</td>\n",
              "      <td>3.36</td>\n",
              "      <td>3.773</td>\n",
              "      <td>3.910</td>\n",
              "      <td>4.498</td>\n",
              "      <td>4.818</td>\n",
              "      <td>5.135</td>\n",
              "      <td>5.590</td>\n",
              "    </tr>\n",
              "    <tr>\n",
              "      <th>2</th>\n",
              "      <td>Dec 29, 2020</td>\n",
              "      <td>3.13</td>\n",
              "      <td>3.38</td>\n",
              "      <td>3.879</td>\n",
              "      <td>4.091</td>\n",
              "      <td>4.489</td>\n",
              "      <td>4.852</td>\n",
              "      <td>5.137</td>\n",
              "      <td>5.609</td>\n",
              "    </tr>\n",
              "    <tr>\n",
              "      <th>3</th>\n",
              "      <td>Dec 28, 2020</td>\n",
              "      <td>3.13</td>\n",
              "      <td>3.37</td>\n",
              "      <td>3.802</td>\n",
              "      <td>3.888</td>\n",
              "      <td>4.461</td>\n",
              "      <td>4.825</td>\n",
              "      <td>5.137</td>\n",
              "      <td>5.609</td>\n",
              "    </tr>\n",
              "    <tr>\n",
              "      <th>4</th>\n",
              "      <td>Dec 24, 2020</td>\n",
              "      <td>3.13</td>\n",
              "      <td>3.38</td>\n",
              "      <td>3.884</td>\n",
              "      <td>3.872</td>\n",
              "      <td>4.476</td>\n",
              "      <td>4.881</td>\n",
              "      <td>5.266</td>\n",
              "      <td>5.646</td>\n",
              "    </tr>\n",
              "  </tbody>\n",
              "</table>\n",
              "</div>"
            ],
            "text/plain": [
              "           Date   3mo   6mo    1yr    2yr    3yr    4yr    5yr    6yr\n",
              "0  Dec 31, 2020  3.08  3.36  3.786  3.906  4.453  4.795  5.125  5.554\n",
              "1  Dec 30, 2020  3.11  3.36  3.773  3.910  4.498  4.818  5.135  5.590\n",
              "2  Dec 29, 2020  3.13  3.38  3.879  4.091  4.489  4.852  5.137  5.609\n",
              "3  Dec 28, 2020  3.13  3.37  3.802  3.888  4.461  4.825  5.137  5.609\n",
              "4  Dec 24, 2020  3.13  3.38  3.884  3.872  4.476  4.881  5.266  5.646"
            ]
          },
          "metadata": {
            "tags": []
          },
          "execution_count": 179
        }
      ]
    },
    {
      "cell_type": "code",
      "metadata": {
        "id": "L5k6DubLQ3-Y",
        "colab": {
          "base_uri": "https://localhost:8080/"
        },
        "outputId": "27caba18-88de-46bd-f6f7-a47cdc7de17c"
      },
      "source": [
        "len(df_joined)"
      ],
      "execution_count": null,
      "outputs": [
        {
          "output_type": "execute_result",
          "data": {
            "text/plain": [
              "2860"
            ]
          },
          "metadata": {
            "tags": []
          },
          "execution_count": 180
        }
      ]
    },
    {
      "cell_type": "code",
      "metadata": {
        "id": "e8T3nUo1SCYh"
      },
      "source": [
        "df_joined['Date'] = df_joined.apply(lambda row: date_format_change(row), axis=1)"
      ],
      "execution_count": null,
      "outputs": []
    },
    {
      "cell_type": "code",
      "metadata": {
        "id": "QCI2lCyNSNUX",
        "colab": {
          "base_uri": "https://localhost:8080/",
          "height": 191
        },
        "outputId": "7a79e23e-43c4-425f-c4a6-e5e3395e8594"
      },
      "source": [
        "df_joined.tail()"
      ],
      "execution_count": null,
      "outputs": [
        {
          "output_type": "execute_result",
          "data": {
            "text/html": [
              "<div>\n",
              "<style scoped>\n",
              "    .dataframe tbody tr th:only-of-type {\n",
              "        vertical-align: middle;\n",
              "    }\n",
              "\n",
              "    .dataframe tbody tr th {\n",
              "        vertical-align: top;\n",
              "    }\n",
              "\n",
              "    .dataframe thead th {\n",
              "        text-align: right;\n",
              "    }\n",
              "</style>\n",
              "<table border=\"1\" class=\"dataframe\">\n",
              "  <thead>\n",
              "    <tr style=\"text-align: right;\">\n",
              "      <th></th>\n",
              "      <th>Date</th>\n",
              "      <th>3mo</th>\n",
              "      <th>6mo</th>\n",
              "      <th>1yr</th>\n",
              "      <th>2yr</th>\n",
              "      <th>3yr</th>\n",
              "      <th>4yr</th>\n",
              "      <th>5yr</th>\n",
              "      <th>6yr</th>\n",
              "    </tr>\n",
              "  </thead>\n",
              "  <tbody>\n",
              "    <tr>\n",
              "      <th>2855</th>\n",
              "      <td>09-Jun-2011</td>\n",
              "      <td>NaN</td>\n",
              "      <td>NaN</td>\n",
              "      <td>8.199</td>\n",
              "      <td>8.200</td>\n",
              "      <td>8.185</td>\n",
              "      <td>8.342</td>\n",
              "      <td>8.349</td>\n",
              "      <td>8.370</td>\n",
              "    </tr>\n",
              "    <tr>\n",
              "      <th>2856</th>\n",
              "      <td>08-Jun-2011</td>\n",
              "      <td>NaN</td>\n",
              "      <td>NaN</td>\n",
              "      <td>8.185</td>\n",
              "      <td>8.199</td>\n",
              "      <td>8.196</td>\n",
              "      <td>8.348</td>\n",
              "      <td>8.336</td>\n",
              "      <td>8.365</td>\n",
              "    </tr>\n",
              "    <tr>\n",
              "      <th>2857</th>\n",
              "      <td>07-Jun-2011</td>\n",
              "      <td>NaN</td>\n",
              "      <td>NaN</td>\n",
              "      <td>8.207</td>\n",
              "      <td>8.208</td>\n",
              "      <td>8.200</td>\n",
              "      <td>8.365</td>\n",
              "      <td>8.351</td>\n",
              "      <td>8.378</td>\n",
              "    </tr>\n",
              "    <tr>\n",
              "      <th>2858</th>\n",
              "      <td>06-Jun-2011</td>\n",
              "      <td>NaN</td>\n",
              "      <td>NaN</td>\n",
              "      <td>8.205</td>\n",
              "      <td>8.217</td>\n",
              "      <td>8.199</td>\n",
              "      <td>8.352</td>\n",
              "      <td>8.367</td>\n",
              "      <td>8.375</td>\n",
              "    </tr>\n",
              "    <tr>\n",
              "      <th>2859</th>\n",
              "      <td>16-Sep-2018</td>\n",
              "      <td>NaN</td>\n",
              "      <td>NaN</td>\n",
              "      <td>NaN</td>\n",
              "      <td>NaN</td>\n",
              "      <td>NaN</td>\n",
              "      <td>8.202</td>\n",
              "      <td>8.232</td>\n",
              "      <td>NaN</td>\n",
              "    </tr>\n",
              "  </tbody>\n",
              "</table>\n",
              "</div>"
            ],
            "text/plain": [
              "             Date  3mo  6mo    1yr    2yr    3yr    4yr    5yr    6yr\n",
              "2855  09-Jun-2011  NaN  NaN  8.199  8.200  8.185  8.342  8.349  8.370\n",
              "2856  08-Jun-2011  NaN  NaN  8.185  8.199  8.196  8.348  8.336  8.365\n",
              "2857  07-Jun-2011  NaN  NaN  8.207  8.208  8.200  8.365  8.351  8.378\n",
              "2858  06-Jun-2011  NaN  NaN  8.205  8.217  8.199  8.352  8.367  8.375\n",
              "2859  16-Sep-2018  NaN  NaN    NaN    NaN    NaN  8.202  8.232    NaN"
            ]
          },
          "metadata": {
            "tags": []
          },
          "execution_count": 182
        }
      ]
    },
    {
      "cell_type": "code",
      "metadata": {
        "id": "fIygrz4bSY9W",
        "colab": {
          "base_uri": "https://localhost:8080/",
          "height": 191
        },
        "outputId": "39637c62-e6ac-4937-ae11-0997d00cf65a"
      },
      "source": [
        "combined_df = option.merge(df_joined, how='left', on='Date')\n",
        "combined_df.head()"
      ],
      "execution_count": null,
      "outputs": [
        {
          "output_type": "execute_result",
          "data": {
            "text/html": [
              "<div>\n",
              "<style scoped>\n",
              "    .dataframe tbody tr th:only-of-type {\n",
              "        vertical-align: middle;\n",
              "    }\n",
              "\n",
              "    .dataframe tbody tr th {\n",
              "        vertical-align: top;\n",
              "    }\n",
              "\n",
              "    .dataframe thead th {\n",
              "        text-align: right;\n",
              "    }\n",
              "</style>\n",
              "<table border=\"1\" class=\"dataframe\">\n",
              "  <thead>\n",
              "    <tr style=\"text-align: right;\">\n",
              "      <th></th>\n",
              "      <th>Date</th>\n",
              "      <th>Strike Price</th>\n",
              "      <th>Close</th>\n",
              "      <th>date_ndiff</th>\n",
              "      <th>stock_price</th>\n",
              "      <th>log_ret</th>\n",
              "      <th>sigma_20</th>\n",
              "      <th>cal_sig_20</th>\n",
              "      <th>delta_t</th>\n",
              "      <th>3mo</th>\n",
              "      <th>6mo</th>\n",
              "      <th>1yr</th>\n",
              "      <th>2yr</th>\n",
              "      <th>3yr</th>\n",
              "      <th>4yr</th>\n",
              "      <th>5yr</th>\n",
              "      <th>6yr</th>\n",
              "    </tr>\n",
              "  </thead>\n",
              "  <tbody>\n",
              "    <tr>\n",
              "      <th>0</th>\n",
              "      <td>02-Dec-2014</td>\n",
              "      <td>9550</td>\n",
              "      <td>1064.50</td>\n",
              "      <td>22</td>\n",
              "      <td>8524.7</td>\n",
              "      <td>-0.003653</td>\n",
              "      <td>0.004723</td>\n",
              "      <td>0.016309</td>\n",
              "      <td>0.079452</td>\n",
              "      <td>8.26</td>\n",
              "      <td>NaN</td>\n",
              "      <td>8.167</td>\n",
              "      <td>7.942</td>\n",
              "      <td>8.065</td>\n",
              "      <td>8.042</td>\n",
              "      <td>8.001</td>\n",
              "      <td>8.041</td>\n",
              "    </tr>\n",
              "    <tr>\n",
              "      <th>1</th>\n",
              "      <td>02-Dec-2014</td>\n",
              "      <td>9600</td>\n",
              "      <td>1918.40</td>\n",
              "      <td>22</td>\n",
              "      <td>8524.7</td>\n",
              "      <td>-0.003653</td>\n",
              "      <td>0.004723</td>\n",
              "      <td>0.016309</td>\n",
              "      <td>0.079452</td>\n",
              "      <td>8.26</td>\n",
              "      <td>NaN</td>\n",
              "      <td>8.167</td>\n",
              "      <td>7.942</td>\n",
              "      <td>8.065</td>\n",
              "      <td>8.042</td>\n",
              "      <td>8.001</td>\n",
              "      <td>8.041</td>\n",
              "    </tr>\n",
              "    <tr>\n",
              "      <th>2</th>\n",
              "      <td>02-Dec-2014</td>\n",
              "      <td>9650</td>\n",
              "      <td>1279.00</td>\n",
              "      <td>22</td>\n",
              "      <td>8524.7</td>\n",
              "      <td>-0.003653</td>\n",
              "      <td>0.004723</td>\n",
              "      <td>0.016309</td>\n",
              "      <td>0.079452</td>\n",
              "      <td>8.26</td>\n",
              "      <td>NaN</td>\n",
              "      <td>8.167</td>\n",
              "      <td>7.942</td>\n",
              "      <td>8.065</td>\n",
              "      <td>8.042</td>\n",
              "      <td>8.001</td>\n",
              "      <td>8.041</td>\n",
              "    </tr>\n",
              "    <tr>\n",
              "      <th>3</th>\n",
              "      <td>02-Dec-2014</td>\n",
              "      <td>9700</td>\n",
              "      <td>1952.65</td>\n",
              "      <td>22</td>\n",
              "      <td>8524.7</td>\n",
              "      <td>-0.003653</td>\n",
              "      <td>0.004723</td>\n",
              "      <td>0.016309</td>\n",
              "      <td>0.079452</td>\n",
              "      <td>8.26</td>\n",
              "      <td>NaN</td>\n",
              "      <td>8.167</td>\n",
              "      <td>7.942</td>\n",
              "      <td>8.065</td>\n",
              "      <td>8.042</td>\n",
              "      <td>8.001</td>\n",
              "      <td>8.041</td>\n",
              "    </tr>\n",
              "    <tr>\n",
              "      <th>4</th>\n",
              "      <td>02-Dec-2014</td>\n",
              "      <td>9750</td>\n",
              "      <td>1162.40</td>\n",
              "      <td>22</td>\n",
              "      <td>8524.7</td>\n",
              "      <td>-0.003653</td>\n",
              "      <td>0.004723</td>\n",
              "      <td>0.016309</td>\n",
              "      <td>0.079452</td>\n",
              "      <td>8.26</td>\n",
              "      <td>NaN</td>\n",
              "      <td>8.167</td>\n",
              "      <td>7.942</td>\n",
              "      <td>8.065</td>\n",
              "      <td>8.042</td>\n",
              "      <td>8.001</td>\n",
              "      <td>8.041</td>\n",
              "    </tr>\n",
              "  </tbody>\n",
              "</table>\n",
              "</div>"
            ],
            "text/plain": [
              "          Date  Strike Price    Close  date_ndiff  ...    3yr    4yr    5yr    6yr\n",
              "0  02-Dec-2014          9550  1064.50          22  ...  8.065  8.042  8.001  8.041\n",
              "1  02-Dec-2014          9600  1918.40          22  ...  8.065  8.042  8.001  8.041\n",
              "2  02-Dec-2014          9650  1279.00          22  ...  8.065  8.042  8.001  8.041\n",
              "3  02-Dec-2014          9700  1952.65          22  ...  8.065  8.042  8.001  8.041\n",
              "4  02-Dec-2014          9750  1162.40          22  ...  8.065  8.042  8.001  8.041\n",
              "\n",
              "[5 rows x 17 columns]"
            ]
          },
          "metadata": {
            "tags": []
          },
          "execution_count": 183
        }
      ]
    },
    {
      "cell_type": "code",
      "metadata": {
        "id": "RC9FiGlbTFfz"
      },
      "source": [
        "combined_df['r'] = combined_df.apply(lambda row: get_interest_rate(row), axis=1)"
      ],
      "execution_count": null,
      "outputs": []
    },
    {
      "cell_type": "code",
      "metadata": {
        "id": "nBK983uQT2Eg",
        "colab": {
          "base_uri": "https://localhost:8080/",
          "height": 191
        },
        "outputId": "009fad69-d76d-4798-ac68-53d276fc16a9"
      },
      "source": [
        "combined_df.tail()"
      ],
      "execution_count": null,
      "outputs": [
        {
          "output_type": "execute_result",
          "data": {
            "text/html": [
              "<div>\n",
              "<style scoped>\n",
              "    .dataframe tbody tr th:only-of-type {\n",
              "        vertical-align: middle;\n",
              "    }\n",
              "\n",
              "    .dataframe tbody tr th {\n",
              "        vertical-align: top;\n",
              "    }\n",
              "\n",
              "    .dataframe thead th {\n",
              "        text-align: right;\n",
              "    }\n",
              "</style>\n",
              "<table border=\"1\" class=\"dataframe\">\n",
              "  <thead>\n",
              "    <tr style=\"text-align: right;\">\n",
              "      <th></th>\n",
              "      <th>Date</th>\n",
              "      <th>Strike Price</th>\n",
              "      <th>Close</th>\n",
              "      <th>date_ndiff</th>\n",
              "      <th>stock_price</th>\n",
              "      <th>log_ret</th>\n",
              "      <th>sigma_20</th>\n",
              "      <th>cal_sig_20</th>\n",
              "      <th>delta_t</th>\n",
              "      <th>3mo</th>\n",
              "      <th>6mo</th>\n",
              "      <th>1yr</th>\n",
              "      <th>2yr</th>\n",
              "      <th>3yr</th>\n",
              "      <th>4yr</th>\n",
              "      <th>5yr</th>\n",
              "      <th>6yr</th>\n",
              "      <th>r</th>\n",
              "    </tr>\n",
              "  </thead>\n",
              "  <tbody>\n",
              "    <tr>\n",
              "      <th>1503580</th>\n",
              "      <td>31-Dec-2020</td>\n",
              "      <td>9000</td>\n",
              "      <td>1425.55</td>\n",
              "      <td>1638</td>\n",
              "      <td>13981.75</td>\n",
              "      <td>-0.000014</td>\n",
              "      <td>0.024552</td>\n",
              "      <td>0.040835</td>\n",
              "      <td>0.342466</td>\n",
              "      <td>3.08</td>\n",
              "      <td>3.36</td>\n",
              "      <td>3.786</td>\n",
              "      <td>3.906</td>\n",
              "      <td>4.453</td>\n",
              "      <td>4.795</td>\n",
              "      <td>5.125</td>\n",
              "      <td>5.554</td>\n",
              "      <td>5.125</td>\n",
              "    </tr>\n",
              "    <tr>\n",
              "      <th>1503581</th>\n",
              "      <td>31-Dec-2020</td>\n",
              "      <td>9500</td>\n",
              "      <td>1621.40</td>\n",
              "      <td>1638</td>\n",
              "      <td>13981.75</td>\n",
              "      <td>-0.000014</td>\n",
              "      <td>0.024552</td>\n",
              "      <td>0.040835</td>\n",
              "      <td>0.342466</td>\n",
              "      <td>3.08</td>\n",
              "      <td>3.36</td>\n",
              "      <td>3.786</td>\n",
              "      <td>3.906</td>\n",
              "      <td>4.453</td>\n",
              "      <td>4.795</td>\n",
              "      <td>5.125</td>\n",
              "      <td>5.554</td>\n",
              "      <td>5.125</td>\n",
              "    </tr>\n",
              "    <tr>\n",
              "      <th>1503582</th>\n",
              "      <td>31-Dec-2020</td>\n",
              "      <td>10000</td>\n",
              "      <td>1827.45</td>\n",
              "      <td>1638</td>\n",
              "      <td>13981.75</td>\n",
              "      <td>-0.000014</td>\n",
              "      <td>0.024552</td>\n",
              "      <td>0.040835</td>\n",
              "      <td>0.342466</td>\n",
              "      <td>3.08</td>\n",
              "      <td>3.36</td>\n",
              "      <td>3.786</td>\n",
              "      <td>3.906</td>\n",
              "      <td>4.453</td>\n",
              "      <td>4.795</td>\n",
              "      <td>5.125</td>\n",
              "      <td>5.554</td>\n",
              "      <td>5.125</td>\n",
              "    </tr>\n",
              "    <tr>\n",
              "      <th>1503583</th>\n",
              "      <td>31-Dec-2020</td>\n",
              "      <td>8000</td>\n",
              "      <td>1066.65</td>\n",
              "      <td>1638</td>\n",
              "      <td>13981.75</td>\n",
              "      <td>-0.000014</td>\n",
              "      <td>0.024552</td>\n",
              "      <td>0.040835</td>\n",
              "      <td>0.342466</td>\n",
              "      <td>3.08</td>\n",
              "      <td>3.36</td>\n",
              "      <td>3.786</td>\n",
              "      <td>3.906</td>\n",
              "      <td>4.453</td>\n",
              "      <td>4.795</td>\n",
              "      <td>5.125</td>\n",
              "      <td>5.554</td>\n",
              "      <td>5.125</td>\n",
              "    </tr>\n",
              "    <tr>\n",
              "      <th>1503584</th>\n",
              "      <td>31-Dec-2020</td>\n",
              "      <td>15000</td>\n",
              "      <td>2300.00</td>\n",
              "      <td>1638</td>\n",
              "      <td>13981.75</td>\n",
              "      <td>-0.000014</td>\n",
              "      <td>0.024552</td>\n",
              "      <td>0.040835</td>\n",
              "      <td>0.342466</td>\n",
              "      <td>3.08</td>\n",
              "      <td>3.36</td>\n",
              "      <td>3.786</td>\n",
              "      <td>3.906</td>\n",
              "      <td>4.453</td>\n",
              "      <td>4.795</td>\n",
              "      <td>5.125</td>\n",
              "      <td>5.554</td>\n",
              "      <td>5.125</td>\n",
              "    </tr>\n",
              "  </tbody>\n",
              "</table>\n",
              "</div>"
            ],
            "text/plain": [
              "                Date  Strike Price    Close  ...    5yr    6yr      r\n",
              "1503580  31-Dec-2020          9000  1425.55  ...  5.125  5.554  5.125\n",
              "1503581  31-Dec-2020          9500  1621.40  ...  5.125  5.554  5.125\n",
              "1503582  31-Dec-2020         10000  1827.45  ...  5.125  5.554  5.125\n",
              "1503583  31-Dec-2020          8000  1066.65  ...  5.125  5.554  5.125\n",
              "1503584  31-Dec-2020         15000  2300.00  ...  5.125  5.554  5.125\n",
              "\n",
              "[5 rows x 18 columns]"
            ]
          },
          "metadata": {
            "tags": []
          },
          "execution_count": 185
        }
      ]
    },
    {
      "cell_type": "code",
      "metadata": {
        "id": "gShzU_pPUn1K"
      },
      "source": [
        "combined_df = combined_df.drop(columns=['3mo', '6mo', '1yr', '2yr', '3yr', '4yr', '5yr', '6yr'], axis=1)"
      ],
      "execution_count": null,
      "outputs": []
    },
    {
      "cell_type": "code",
      "metadata": {
        "id": "V2saGPzMRGjl"
      },
      "source": [
        "combined_df['r'] = combined_df['r']/100 "
      ],
      "execution_count": null,
      "outputs": []
    },
    {
      "cell_type": "code",
      "metadata": {
        "id": "qlkhPc_NVUNo"
      },
      "source": [
        "combined_df = combined_df.dropna()"
      ],
      "execution_count": null,
      "outputs": []
    },
    {
      "cell_type": "markdown",
      "metadata": {
        "id": "G4p58vnBRQCk"
      },
      "source": [
        "## Time to maturity"
      ]
    },
    {
      "cell_type": "code",
      "metadata": {
        "id": "wqmoppakRT0J"
      },
      "source": [
        "combined_df['tau'] = combined_df['date_ndiff']/365\n",
        "combined_df = combined_df.drop(columns=['date_ndiff'])"
      ],
      "execution_count": null,
      "outputs": []
    },
    {
      "cell_type": "markdown",
      "metadata": {
        "id": "VyWOOFG49zhU"
      },
      "source": [
        "\n",
        "## Historical 20-day data\n",
        "This step involved calculating underlying price and return for for the past 20 days"
      ]
    },
    {
      "cell_type": "code",
      "metadata": {
        "id": "gn_9-DUJY4e-"
      },
      "source": [
        "N_TIMESTEPS = 20\n",
        "padded = np.insert(underlying['stock_price'].values, 0, np.array([np.nan] * N_TIMESTEPS))\n",
        "rolled = np.column_stack([np.roll(padded, i) for i in range(N_TIMESTEPS)])\n",
        "rolled = rolled[~np.isnan(rolled).any(axis=1)]\n",
        "rolled = np.column_stack((underlying['Date'].values[N_TIMESTEPS - 1:], rolled))\n",
        "price_history = pd.DataFrame(data=rolled, columns=['Date',]+['S' + str(i) for i in range(1, 21)])"
      ],
      "execution_count": null,
      "outputs": []
    },
    {
      "cell_type": "code",
      "metadata": {
        "colab": {
          "base_uri": "https://localhost:8080/",
          "height": 191
        },
        "id": "-aOt6LHY-rOH",
        "outputId": "680b65ac-8625-4b49-951b-f303e76f83fa"
      },
      "source": [
        "price_history.head()"
      ],
      "execution_count": null,
      "outputs": [
        {
          "output_type": "execute_result",
          "data": {
            "text/html": [
              "<div>\n",
              "<style scoped>\n",
              "    .dataframe tbody tr th:only-of-type {\n",
              "        vertical-align: middle;\n",
              "    }\n",
              "\n",
              "    .dataframe tbody tr th {\n",
              "        vertical-align: top;\n",
              "    }\n",
              "\n",
              "    .dataframe thead th {\n",
              "        text-align: right;\n",
              "    }\n",
              "</style>\n",
              "<table border=\"1\" class=\"dataframe\">\n",
              "  <thead>\n",
              "    <tr style=\"text-align: right;\">\n",
              "      <th></th>\n",
              "      <th>Date</th>\n",
              "      <th>S1</th>\n",
              "      <th>S2</th>\n",
              "      <th>S3</th>\n",
              "      <th>S4</th>\n",
              "      <th>S5</th>\n",
              "      <th>S6</th>\n",
              "      <th>S7</th>\n",
              "      <th>S8</th>\n",
              "      <th>S9</th>\n",
              "      <th>S10</th>\n",
              "      <th>S11</th>\n",
              "      <th>S12</th>\n",
              "      <th>S13</th>\n",
              "      <th>S14</th>\n",
              "      <th>S15</th>\n",
              "      <th>S16</th>\n",
              "      <th>S17</th>\n",
              "      <th>S18</th>\n",
              "      <th>S19</th>\n",
              "      <th>S20</th>\n",
              "    </tr>\n",
              "  </thead>\n",
              "  <tbody>\n",
              "    <tr>\n",
              "      <th>0</th>\n",
              "      <td>30-Dec-2014</td>\n",
              "      <td>8248.25</td>\n",
              "      <td>8246.3</td>\n",
              "      <td>8200.7</td>\n",
              "      <td>8174.1</td>\n",
              "      <td>8267</td>\n",
              "      <td>8324</td>\n",
              "      <td>8225.2</td>\n",
              "      <td>8159.3</td>\n",
              "      <td>8029.8</td>\n",
              "      <td>8067.6</td>\n",
              "      <td>8219.6</td>\n",
              "      <td>8224.1</td>\n",
              "      <td>8292.9</td>\n",
              "      <td>8355.65</td>\n",
              "      <td>8340.7</td>\n",
              "      <td>8438.25</td>\n",
              "      <td>8538.3</td>\n",
              "      <td>8564.4</td>\n",
              "      <td>8537.65</td>\n",
              "      <td>8524.7</td>\n",
              "    </tr>\n",
              "    <tr>\n",
              "      <th>1</th>\n",
              "      <td>31-Dec-2014</td>\n",
              "      <td>8282.7</td>\n",
              "      <td>8248.25</td>\n",
              "      <td>8246.3</td>\n",
              "      <td>8200.7</td>\n",
              "      <td>8174.1</td>\n",
              "      <td>8267</td>\n",
              "      <td>8324</td>\n",
              "      <td>8225.2</td>\n",
              "      <td>8159.3</td>\n",
              "      <td>8029.8</td>\n",
              "      <td>8067.6</td>\n",
              "      <td>8219.6</td>\n",
              "      <td>8224.1</td>\n",
              "      <td>8292.9</td>\n",
              "      <td>8355.65</td>\n",
              "      <td>8340.7</td>\n",
              "      <td>8438.25</td>\n",
              "      <td>8538.3</td>\n",
              "      <td>8564.4</td>\n",
              "      <td>8537.65</td>\n",
              "    </tr>\n",
              "    <tr>\n",
              "      <th>2</th>\n",
              "      <td>01-Jan-2015</td>\n",
              "      <td>8284</td>\n",
              "      <td>8282.7</td>\n",
              "      <td>8248.25</td>\n",
              "      <td>8246.3</td>\n",
              "      <td>8200.7</td>\n",
              "      <td>8174.1</td>\n",
              "      <td>8267</td>\n",
              "      <td>8324</td>\n",
              "      <td>8225.2</td>\n",
              "      <td>8159.3</td>\n",
              "      <td>8029.8</td>\n",
              "      <td>8067.6</td>\n",
              "      <td>8219.6</td>\n",
              "      <td>8224.1</td>\n",
              "      <td>8292.9</td>\n",
              "      <td>8355.65</td>\n",
              "      <td>8340.7</td>\n",
              "      <td>8438.25</td>\n",
              "      <td>8538.3</td>\n",
              "      <td>8564.4</td>\n",
              "    </tr>\n",
              "    <tr>\n",
              "      <th>3</th>\n",
              "      <td>02-Jan-2015</td>\n",
              "      <td>8395.45</td>\n",
              "      <td>8284</td>\n",
              "      <td>8282.7</td>\n",
              "      <td>8248.25</td>\n",
              "      <td>8246.3</td>\n",
              "      <td>8200.7</td>\n",
              "      <td>8174.1</td>\n",
              "      <td>8267</td>\n",
              "      <td>8324</td>\n",
              "      <td>8225.2</td>\n",
              "      <td>8159.3</td>\n",
              "      <td>8029.8</td>\n",
              "      <td>8067.6</td>\n",
              "      <td>8219.6</td>\n",
              "      <td>8224.1</td>\n",
              "      <td>8292.9</td>\n",
              "      <td>8355.65</td>\n",
              "      <td>8340.7</td>\n",
              "      <td>8438.25</td>\n",
              "      <td>8538.3</td>\n",
              "    </tr>\n",
              "    <tr>\n",
              "      <th>4</th>\n",
              "      <td>05-Jan-2015</td>\n",
              "      <td>8378.4</td>\n",
              "      <td>8395.45</td>\n",
              "      <td>8284</td>\n",
              "      <td>8282.7</td>\n",
              "      <td>8248.25</td>\n",
              "      <td>8246.3</td>\n",
              "      <td>8200.7</td>\n",
              "      <td>8174.1</td>\n",
              "      <td>8267</td>\n",
              "      <td>8324</td>\n",
              "      <td>8225.2</td>\n",
              "      <td>8159.3</td>\n",
              "      <td>8029.8</td>\n",
              "      <td>8067.6</td>\n",
              "      <td>8219.6</td>\n",
              "      <td>8224.1</td>\n",
              "      <td>8292.9</td>\n",
              "      <td>8355.65</td>\n",
              "      <td>8340.7</td>\n",
              "      <td>8438.25</td>\n",
              "    </tr>\n",
              "  </tbody>\n",
              "</table>\n",
              "</div>"
            ],
            "text/plain": [
              "          Date       S1       S2       S3  ...      S17      S18      S19      S20\n",
              "0  30-Dec-2014  8248.25   8246.3   8200.7  ...   8538.3   8564.4  8537.65   8524.7\n",
              "1  31-Dec-2014   8282.7  8248.25   8246.3  ...  8438.25   8538.3   8564.4  8537.65\n",
              "2  01-Jan-2015     8284   8282.7  8248.25  ...   8340.7  8438.25   8538.3   8564.4\n",
              "3  02-Jan-2015  8395.45     8284   8282.7  ...  8355.65   8340.7  8438.25   8538.3\n",
              "4  05-Jan-2015   8378.4  8395.45     8284  ...   8292.9  8355.65   8340.7  8438.25\n",
              "\n",
              "[5 rows x 21 columns]"
            ]
          },
          "metadata": {
            "tags": []
          },
          "execution_count": 191
        }
      ]
    },
    {
      "cell_type": "code",
      "metadata": {
        "id": "68cO9YJF6-4_"
      },
      "source": [
        "padded = np.insert(underlying['log_ret'].values, 0, np.array([np.nan] * N_TIMESTEPS))\n",
        "rolled = np.column_stack([np.roll(padded, i) for i in range(N_TIMESTEPS)])\n",
        "rolled = rolled[~np.isnan(rolled).any(axis=1)]\n",
        "rolled = np.column_stack((underlying['Date'].values[N_TIMESTEPS - 1:], rolled))\n",
        "return_history = pd.DataFrame(data=rolled, columns=['Date',]+['log_ret' + str(i) for i in range(1, 21)])"
      ],
      "execution_count": null,
      "outputs": []
    },
    {
      "cell_type": "code",
      "metadata": {
        "id": "adEq_plsef0t"
      },
      "source": [
        "final_df = combined_df.merge(price_history,how='left',on='Date')\n",
        "final_df = final_df.merge(return_history,how='left',on='Date')"
      ],
      "execution_count": null,
      "outputs": []
    },
    {
      "cell_type": "code",
      "metadata": {
        "id": "R1_snSnXVaI1"
      },
      "source": [
        "final_df = final_df.rename(columns={'Strike Price':'K','Close':'option_price'})"
      ],
      "execution_count": null,
      "outputs": []
    },
    {
      "cell_type": "code",
      "metadata": {
        "id": "4oPZJRYR_tAv"
      },
      "source": [
        "final_df = final_df.dropna()"
      ],
      "execution_count": null,
      "outputs": []
    },
    {
      "cell_type": "code",
      "metadata": {
        "colab": {
          "base_uri": "https://localhost:8080/",
          "height": 373
        },
        "id": "LpJF9qwrZ598",
        "outputId": "2056425e-7152-45b2-de76-61cf4008cf99"
      },
      "source": [
        "final_df.head()"
      ],
      "execution_count": null,
      "outputs": [
        {
          "output_type": "execute_result",
          "data": {
            "text/html": [
              "<div>\n",
              "<style scoped>\n",
              "    .dataframe tbody tr th:only-of-type {\n",
              "        vertical-align: middle;\n",
              "    }\n",
              "\n",
              "    .dataframe tbody tr th {\n",
              "        vertical-align: top;\n",
              "    }\n",
              "\n",
              "    .dataframe thead th {\n",
              "        text-align: right;\n",
              "    }\n",
              "</style>\n",
              "<table border=\"1\" class=\"dataframe\">\n",
              "  <thead>\n",
              "    <tr style=\"text-align: right;\">\n",
              "      <th></th>\n",
              "      <th>Date</th>\n",
              "      <th>K</th>\n",
              "      <th>option_price</th>\n",
              "      <th>stock_price</th>\n",
              "      <th>log_ret</th>\n",
              "      <th>sigma_20</th>\n",
              "      <th>cal_sig_20</th>\n",
              "      <th>delta_t</th>\n",
              "      <th>r</th>\n",
              "      <th>tau</th>\n",
              "      <th>S1</th>\n",
              "      <th>S2</th>\n",
              "      <th>S3</th>\n",
              "      <th>S4</th>\n",
              "      <th>S5</th>\n",
              "      <th>S6</th>\n",
              "      <th>S7</th>\n",
              "      <th>S8</th>\n",
              "      <th>S9</th>\n",
              "      <th>S10</th>\n",
              "      <th>S11</th>\n",
              "      <th>S12</th>\n",
              "      <th>S13</th>\n",
              "      <th>S14</th>\n",
              "      <th>S15</th>\n",
              "      <th>S16</th>\n",
              "      <th>S17</th>\n",
              "      <th>S18</th>\n",
              "      <th>S19</th>\n",
              "      <th>S20</th>\n",
              "      <th>log_ret1</th>\n",
              "      <th>log_ret2</th>\n",
              "      <th>log_ret3</th>\n",
              "      <th>log_ret4</th>\n",
              "      <th>log_ret5</th>\n",
              "      <th>log_ret6</th>\n",
              "      <th>log_ret7</th>\n",
              "      <th>log_ret8</th>\n",
              "      <th>log_ret9</th>\n",
              "      <th>log_ret10</th>\n",
              "      <th>log_ret11</th>\n",
              "      <th>log_ret12</th>\n",
              "      <th>log_ret13</th>\n",
              "      <th>log_ret14</th>\n",
              "      <th>log_ret15</th>\n",
              "      <th>log_ret16</th>\n",
              "      <th>log_ret17</th>\n",
              "      <th>log_ret18</th>\n",
              "      <th>log_ret19</th>\n",
              "      <th>log_ret20</th>\n",
              "    </tr>\n",
              "  </thead>\n",
              "  <tbody>\n",
              "    <tr>\n",
              "      <th>19212</th>\n",
              "      <td>30-Dec-2014</td>\n",
              "      <td>10000</td>\n",
              "      <td>1662.75</td>\n",
              "      <td>8248.25</td>\n",
              "      <td>0.000236</td>\n",
              "      <td>0.008876</td>\n",
              "      <td>0.031192</td>\n",
              "      <td>0.076712</td>\n",
              "      <td>0.0835</td>\n",
              "      <td>0.082192</td>\n",
              "      <td>8248.25</td>\n",
              "      <td>8246.3</td>\n",
              "      <td>8200.7</td>\n",
              "      <td>8174.1</td>\n",
              "      <td>8267</td>\n",
              "      <td>8324</td>\n",
              "      <td>8225.2</td>\n",
              "      <td>8159.3</td>\n",
              "      <td>8029.8</td>\n",
              "      <td>8067.6</td>\n",
              "      <td>8219.6</td>\n",
              "      <td>8224.1</td>\n",
              "      <td>8292.9</td>\n",
              "      <td>8355.65</td>\n",
              "      <td>8340.7</td>\n",
              "      <td>8438.25</td>\n",
              "      <td>8538.3</td>\n",
              "      <td>8564.4</td>\n",
              "      <td>8537.65</td>\n",
              "      <td>8524.7</td>\n",
              "      <td>0.000236442</td>\n",
              "      <td>0.0055451</td>\n",
              "      <td>0.0032489</td>\n",
              "      <td>-0.0113011</td>\n",
              "      <td>-0.00687122</td>\n",
              "      <td>0.0119403</td>\n",
              "      <td>0.00804423</td>\n",
              "      <td>0.0159988</td>\n",
              "      <td>-0.00469642</td>\n",
              "      <td>-0.0186655</td>\n",
              "      <td>-0.000547322</td>\n",
              "      <td>-0.00833086</td>\n",
              "      <td>-0.00753823</td>\n",
              "      <td>0.00179081</td>\n",
              "      <td>-0.0116278</td>\n",
              "      <td>-0.011787</td>\n",
              "      <td>-0.00305215</td>\n",
              "      <td>0.00312828</td>\n",
              "      <td>0.00151796</td>\n",
              "      <td>-0.00365327</td>\n",
              "    </tr>\n",
              "    <tr>\n",
              "      <th>19213</th>\n",
              "      <td>30-Dec-2014</td>\n",
              "      <td>9550</td>\n",
              "      <td>967.00</td>\n",
              "      <td>8248.25</td>\n",
              "      <td>0.000236</td>\n",
              "      <td>0.008876</td>\n",
              "      <td>0.031192</td>\n",
              "      <td>0.076712</td>\n",
              "      <td>0.0835</td>\n",
              "      <td>0.082192</td>\n",
              "      <td>8248.25</td>\n",
              "      <td>8246.3</td>\n",
              "      <td>8200.7</td>\n",
              "      <td>8174.1</td>\n",
              "      <td>8267</td>\n",
              "      <td>8324</td>\n",
              "      <td>8225.2</td>\n",
              "      <td>8159.3</td>\n",
              "      <td>8029.8</td>\n",
              "      <td>8067.6</td>\n",
              "      <td>8219.6</td>\n",
              "      <td>8224.1</td>\n",
              "      <td>8292.9</td>\n",
              "      <td>8355.65</td>\n",
              "      <td>8340.7</td>\n",
              "      <td>8438.25</td>\n",
              "      <td>8538.3</td>\n",
              "      <td>8564.4</td>\n",
              "      <td>8537.65</td>\n",
              "      <td>8524.7</td>\n",
              "      <td>0.000236442</td>\n",
              "      <td>0.0055451</td>\n",
              "      <td>0.0032489</td>\n",
              "      <td>-0.0113011</td>\n",
              "      <td>-0.00687122</td>\n",
              "      <td>0.0119403</td>\n",
              "      <td>0.00804423</td>\n",
              "      <td>0.0159988</td>\n",
              "      <td>-0.00469642</td>\n",
              "      <td>-0.0186655</td>\n",
              "      <td>-0.000547322</td>\n",
              "      <td>-0.00833086</td>\n",
              "      <td>-0.00753823</td>\n",
              "      <td>0.00179081</td>\n",
              "      <td>-0.0116278</td>\n",
              "      <td>-0.011787</td>\n",
              "      <td>-0.00305215</td>\n",
              "      <td>0.00312828</td>\n",
              "      <td>0.00151796</td>\n",
              "      <td>-0.00365327</td>\n",
              "    </tr>\n",
              "    <tr>\n",
              "      <th>19214</th>\n",
              "      <td>30-Dec-2014</td>\n",
              "      <td>9600</td>\n",
              "      <td>1233.25</td>\n",
              "      <td>8248.25</td>\n",
              "      <td>0.000236</td>\n",
              "      <td>0.008876</td>\n",
              "      <td>0.031192</td>\n",
              "      <td>0.076712</td>\n",
              "      <td>0.0835</td>\n",
              "      <td>0.082192</td>\n",
              "      <td>8248.25</td>\n",
              "      <td>8246.3</td>\n",
              "      <td>8200.7</td>\n",
              "      <td>8174.1</td>\n",
              "      <td>8267</td>\n",
              "      <td>8324</td>\n",
              "      <td>8225.2</td>\n",
              "      <td>8159.3</td>\n",
              "      <td>8029.8</td>\n",
              "      <td>8067.6</td>\n",
              "      <td>8219.6</td>\n",
              "      <td>8224.1</td>\n",
              "      <td>8292.9</td>\n",
              "      <td>8355.65</td>\n",
              "      <td>8340.7</td>\n",
              "      <td>8438.25</td>\n",
              "      <td>8538.3</td>\n",
              "      <td>8564.4</td>\n",
              "      <td>8537.65</td>\n",
              "      <td>8524.7</td>\n",
              "      <td>0.000236442</td>\n",
              "      <td>0.0055451</td>\n",
              "      <td>0.0032489</td>\n",
              "      <td>-0.0113011</td>\n",
              "      <td>-0.00687122</td>\n",
              "      <td>0.0119403</td>\n",
              "      <td>0.00804423</td>\n",
              "      <td>0.0159988</td>\n",
              "      <td>-0.00469642</td>\n",
              "      <td>-0.0186655</td>\n",
              "      <td>-0.000547322</td>\n",
              "      <td>-0.00833086</td>\n",
              "      <td>-0.00753823</td>\n",
              "      <td>0.00179081</td>\n",
              "      <td>-0.0116278</td>\n",
              "      <td>-0.011787</td>\n",
              "      <td>-0.00305215</td>\n",
              "      <td>0.00312828</td>\n",
              "      <td>0.00151796</td>\n",
              "      <td>-0.00365327</td>\n",
              "    </tr>\n",
              "    <tr>\n",
              "      <th>19215</th>\n",
              "      <td>30-Dec-2014</td>\n",
              "      <td>9650</td>\n",
              "      <td>1005.00</td>\n",
              "      <td>8248.25</td>\n",
              "      <td>0.000236</td>\n",
              "      <td>0.008876</td>\n",
              "      <td>0.031192</td>\n",
              "      <td>0.076712</td>\n",
              "      <td>0.0835</td>\n",
              "      <td>0.082192</td>\n",
              "      <td>8248.25</td>\n",
              "      <td>8246.3</td>\n",
              "      <td>8200.7</td>\n",
              "      <td>8174.1</td>\n",
              "      <td>8267</td>\n",
              "      <td>8324</td>\n",
              "      <td>8225.2</td>\n",
              "      <td>8159.3</td>\n",
              "      <td>8029.8</td>\n",
              "      <td>8067.6</td>\n",
              "      <td>8219.6</td>\n",
              "      <td>8224.1</td>\n",
              "      <td>8292.9</td>\n",
              "      <td>8355.65</td>\n",
              "      <td>8340.7</td>\n",
              "      <td>8438.25</td>\n",
              "      <td>8538.3</td>\n",
              "      <td>8564.4</td>\n",
              "      <td>8537.65</td>\n",
              "      <td>8524.7</td>\n",
              "      <td>0.000236442</td>\n",
              "      <td>0.0055451</td>\n",
              "      <td>0.0032489</td>\n",
              "      <td>-0.0113011</td>\n",
              "      <td>-0.00687122</td>\n",
              "      <td>0.0119403</td>\n",
              "      <td>0.00804423</td>\n",
              "      <td>0.0159988</td>\n",
              "      <td>-0.00469642</td>\n",
              "      <td>-0.0186655</td>\n",
              "      <td>-0.000547322</td>\n",
              "      <td>-0.00833086</td>\n",
              "      <td>-0.00753823</td>\n",
              "      <td>0.00179081</td>\n",
              "      <td>-0.0116278</td>\n",
              "      <td>-0.011787</td>\n",
              "      <td>-0.00305215</td>\n",
              "      <td>0.00312828</td>\n",
              "      <td>0.00151796</td>\n",
              "      <td>-0.00365327</td>\n",
              "    </tr>\n",
              "    <tr>\n",
              "      <th>19216</th>\n",
              "      <td>30-Dec-2014</td>\n",
              "      <td>9700</td>\n",
              "      <td>1195.10</td>\n",
              "      <td>8248.25</td>\n",
              "      <td>0.000236</td>\n",
              "      <td>0.008876</td>\n",
              "      <td>0.031192</td>\n",
              "      <td>0.076712</td>\n",
              "      <td>0.0835</td>\n",
              "      <td>0.082192</td>\n",
              "      <td>8248.25</td>\n",
              "      <td>8246.3</td>\n",
              "      <td>8200.7</td>\n",
              "      <td>8174.1</td>\n",
              "      <td>8267</td>\n",
              "      <td>8324</td>\n",
              "      <td>8225.2</td>\n",
              "      <td>8159.3</td>\n",
              "      <td>8029.8</td>\n",
              "      <td>8067.6</td>\n",
              "      <td>8219.6</td>\n",
              "      <td>8224.1</td>\n",
              "      <td>8292.9</td>\n",
              "      <td>8355.65</td>\n",
              "      <td>8340.7</td>\n",
              "      <td>8438.25</td>\n",
              "      <td>8538.3</td>\n",
              "      <td>8564.4</td>\n",
              "      <td>8537.65</td>\n",
              "      <td>8524.7</td>\n",
              "      <td>0.000236442</td>\n",
              "      <td>0.0055451</td>\n",
              "      <td>0.0032489</td>\n",
              "      <td>-0.0113011</td>\n",
              "      <td>-0.00687122</td>\n",
              "      <td>0.0119403</td>\n",
              "      <td>0.00804423</td>\n",
              "      <td>0.0159988</td>\n",
              "      <td>-0.00469642</td>\n",
              "      <td>-0.0186655</td>\n",
              "      <td>-0.000547322</td>\n",
              "      <td>-0.00833086</td>\n",
              "      <td>-0.00753823</td>\n",
              "      <td>0.00179081</td>\n",
              "      <td>-0.0116278</td>\n",
              "      <td>-0.011787</td>\n",
              "      <td>-0.00305215</td>\n",
              "      <td>0.00312828</td>\n",
              "      <td>0.00151796</td>\n",
              "      <td>-0.00365327</td>\n",
              "    </tr>\n",
              "  </tbody>\n",
              "</table>\n",
              "</div>"
            ],
            "text/plain": [
              "              Date      K  option_price  ...   log_ret18   log_ret19   log_ret20\n",
              "19212  30-Dec-2014  10000       1662.75  ...  0.00312828  0.00151796 -0.00365327\n",
              "19213  30-Dec-2014   9550        967.00  ...  0.00312828  0.00151796 -0.00365327\n",
              "19214  30-Dec-2014   9600       1233.25  ...  0.00312828  0.00151796 -0.00365327\n",
              "19215  30-Dec-2014   9650       1005.00  ...  0.00312828  0.00151796 -0.00365327\n",
              "19216  30-Dec-2014   9700       1195.10  ...  0.00312828  0.00151796 -0.00365327\n",
              "\n",
              "[5 rows x 50 columns]"
            ]
          },
          "metadata": {
            "tags": []
          },
          "execution_count": 196
        }
      ]
    },
    {
      "cell_type": "markdown",
      "metadata": {
        "id": "9Fa64p5eFm0u"
      },
      "source": [
        "## Sharpe Ratio"
      ]
    },
    {
      "cell_type": "code",
      "metadata": {
        "id": "eb--Ta8MGBZs"
      },
      "source": [
        "def sharpe_ratio(row):\n",
        "    sig = row['sigma_20']\n",
        "    avg_ret = np.mean([row['log_ret' + str(i)] for i in range(1, 21)])\n",
        "    r = row['r']\n",
        "    return (avg_ret - r)/sig"
      ],
      "execution_count": null,
      "outputs": []
    },
    {
      "cell_type": "code",
      "metadata": {
        "id": "bhDTOqNsFrvk"
      },
      "source": [
        "final_df['sharpe_ratio'] = final_df.apply(lambda row: sharpe_ratio(row), axis=1)"
      ],
      "execution_count": null,
      "outputs": []
    },
    {
      "cell_type": "markdown",
      "metadata": {
        "id": "0DjI9M5bM-dp"
      },
      "source": [
        "## Moneyness"
      ]
    },
    {
      "cell_type": "code",
      "metadata": {
        "id": "iT_ZnPs8PAJd"
      },
      "source": [
        "def moneyness2(row):\n",
        "    return (row['stock_price']*np.exp(row['r']*row['tau']))/row['K']"
      ],
      "execution_count": null,
      "outputs": []
    },
    {
      "cell_type": "code",
      "metadata": {
        "id": "4fKKVAt4NBEF"
      },
      "source": [
        "final_df['moneyness1'] = final_df['stock_price']/final_df['K']\n",
        "final_df['moneyness2'] = final_df.apply(lambda x: moneyness2(x), axis=1)"
      ],
      "execution_count": null,
      "outputs": []
    },
    {
      "cell_type": "markdown",
      "metadata": {
        "id": "u-DIF4dbOtej"
      },
      "source": [
        "## log K/S features"
      ]
    },
    {
      "cell_type": "code",
      "metadata": {
        "id": "CNVTcU6cZJQW"
      },
      "source": [
        "final_df['log(K/S)'] = np.log(final_df['K']/final_df['stock_price'])"
      ],
      "execution_count": null,
      "outputs": []
    },
    {
      "cell_type": "code",
      "metadata": {
        "id": "ciAqEZBvZjhx"
      },
      "source": [
        "final_df['log(K/S)0.5'] = final_df['log(K/S)']*(final_df['tau']**(-0.5))"
      ],
      "execution_count": null,
      "outputs": []
    },
    {
      "cell_type": "code",
      "metadata": {
        "id": "WiW8mNk_Z0wv"
      },
      "source": [
        "final_df['log(K/S)0.95'] = final_df['log(K/S)']*(final_df['tau']**(-0.95))"
      ],
      "execution_count": null,
      "outputs": []
    },
    {
      "cell_type": "markdown",
      "metadata": {
        "id": "CkmSGF2c9-PK"
      },
      "source": [
        "## Final touch-up\n",
        "This step involved removing absurd entries, dropping unnecessary columns, converting data from object to numerical, etc"
      ]
    },
    {
      "cell_type": "code",
      "metadata": {
        "id": "yiPQhxY8jJjP"
      },
      "source": [
        "for col in final_df.columns:\n",
        "  if col == 'Date':\n",
        "    continue\n",
        "  final_df[col] = pd.to_numeric(final_df[col], errors='coerce') "
      ],
      "execution_count": null,
      "outputs": []
    },
    {
      "cell_type": "code",
      "metadata": {
        "id": "ckqwTaMuUrQX"
      },
      "source": [
        "final_df = final_df.dropna()\n",
        "final_df = final_df[final_df['tau']>0]\n",
        "final_df = final_df[final_df['stock_price']>0]"
      ],
      "execution_count": null,
      "outputs": []
    },
    {
      "cell_type": "code",
      "metadata": {
        "colab": {
          "base_uri": "https://localhost:8080/"
        },
        "id": "s5jBMnzvtHqO",
        "outputId": "59b0c893-1e77-4c93-9e64-ca5ce2883562"
      },
      "source": [
        "final_df.columns"
      ],
      "execution_count": null,
      "outputs": [
        {
          "output_type": "execute_result",
          "data": {
            "text/plain": [
              "Index(['Date', 'K', 'option_price', 'stock_price', 'log_ret', 'sigma_20',\n",
              "       'cal_sig_20', 'delta_t', 'r', 'tau', 'S1', 'S2', 'S3', 'S4', 'S5', 'S6',\n",
              "       'S7', 'S8', 'S9', 'S10', 'S11', 'S12', 'S13', 'S14', 'S15', 'S16',\n",
              "       'S17', 'S18', 'S19', 'S20', 'log_ret1', 'log_ret2', 'log_ret3',\n",
              "       'log_ret4', 'log_ret5', 'log_ret6', 'log_ret7', 'log_ret8', 'log_ret9',\n",
              "       'log_ret10', 'log_ret11', 'log_ret12', 'log_ret13', 'log_ret14',\n",
              "       'log_ret15', 'log_ret16', 'log_ret17', 'log_ret18', 'log_ret19',\n",
              "       'log_ret20', 'sharpe_ratio', 'moneyness1', 'moneyness2', 'log(K/S)',\n",
              "       'log(K/S)0.5', 'log(K/S)0.95'],\n",
              "      dtype='object')"
            ]
          },
          "metadata": {
            "tags": []
          },
          "execution_count": 134
        }
      ]
    },
    {
      "cell_type": "code",
      "metadata": {
        "id": "OPau1I2ZGx0x"
      },
      "source": [
        "final_df = final_df.dropna()"
      ],
      "execution_count": null,
      "outputs": []
    },
    {
      "cell_type": "code",
      "metadata": {
        "colab": {
          "base_uri": "https://localhost:8080/",
          "height": 373
        },
        "id": "5REY4Lfd-J_E",
        "outputId": "fed091a8-d9c7-420b-bdfd-20fa7c171577"
      },
      "source": [
        "final_df.head()"
      ],
      "execution_count": null,
      "outputs": [
        {
          "output_type": "execute_result",
          "data": {
            "text/html": [
              "<div>\n",
              "<style scoped>\n",
              "    .dataframe tbody tr th:only-of-type {\n",
              "        vertical-align: middle;\n",
              "    }\n",
              "\n",
              "    .dataframe tbody tr th {\n",
              "        vertical-align: top;\n",
              "    }\n",
              "\n",
              "    .dataframe thead th {\n",
              "        text-align: right;\n",
              "    }\n",
              "</style>\n",
              "<table border=\"1\" class=\"dataframe\">\n",
              "  <thead>\n",
              "    <tr style=\"text-align: right;\">\n",
              "      <th></th>\n",
              "      <th>Date</th>\n",
              "      <th>K</th>\n",
              "      <th>option_price</th>\n",
              "      <th>stock_price</th>\n",
              "      <th>log_ret</th>\n",
              "      <th>sigma_20</th>\n",
              "      <th>cal_sig_20</th>\n",
              "      <th>delta_t</th>\n",
              "      <th>r</th>\n",
              "      <th>tau</th>\n",
              "      <th>S1</th>\n",
              "      <th>S2</th>\n",
              "      <th>S3</th>\n",
              "      <th>S4</th>\n",
              "      <th>S5</th>\n",
              "      <th>S6</th>\n",
              "      <th>S7</th>\n",
              "      <th>S8</th>\n",
              "      <th>S9</th>\n",
              "      <th>S10</th>\n",
              "      <th>S11</th>\n",
              "      <th>S12</th>\n",
              "      <th>S13</th>\n",
              "      <th>S14</th>\n",
              "      <th>S15</th>\n",
              "      <th>S16</th>\n",
              "      <th>S17</th>\n",
              "      <th>S18</th>\n",
              "      <th>S19</th>\n",
              "      <th>S20</th>\n",
              "      <th>log_ret1</th>\n",
              "      <th>log_ret2</th>\n",
              "      <th>log_ret3</th>\n",
              "      <th>log_ret4</th>\n",
              "      <th>log_ret5</th>\n",
              "      <th>log_ret6</th>\n",
              "      <th>log_ret7</th>\n",
              "      <th>log_ret8</th>\n",
              "      <th>log_ret9</th>\n",
              "      <th>log_ret10</th>\n",
              "      <th>log_ret11</th>\n",
              "      <th>log_ret12</th>\n",
              "      <th>log_ret13</th>\n",
              "      <th>log_ret14</th>\n",
              "      <th>log_ret15</th>\n",
              "      <th>log_ret16</th>\n",
              "      <th>log_ret17</th>\n",
              "      <th>log_ret18</th>\n",
              "      <th>log_ret19</th>\n",
              "      <th>log_ret20</th>\n",
              "      <th>sharpe_ratio</th>\n",
              "      <th>moneyness1</th>\n",
              "      <th>moneyness2</th>\n",
              "      <th>log(K/S)</th>\n",
              "      <th>log(K/S)0.5</th>\n",
              "      <th>log(K/S)0.95</th>\n",
              "    </tr>\n",
              "  </thead>\n",
              "  <tbody>\n",
              "    <tr>\n",
              "      <th>19212</th>\n",
              "      <td>30-Dec-2014</td>\n",
              "      <td>10000</td>\n",
              "      <td>1662.75</td>\n",
              "      <td>8248.25</td>\n",
              "      <td>0.000236</td>\n",
              "      <td>0.008876</td>\n",
              "      <td>0.031192</td>\n",
              "      <td>0.076712</td>\n",
              "      <td>0.0835</td>\n",
              "      <td>0.082192</td>\n",
              "      <td>8248.25</td>\n",
              "      <td>8246.3</td>\n",
              "      <td>8200.7</td>\n",
              "      <td>8174.1</td>\n",
              "      <td>8267.0</td>\n",
              "      <td>8324.0</td>\n",
              "      <td>8225.2</td>\n",
              "      <td>8159.3</td>\n",
              "      <td>8029.8</td>\n",
              "      <td>8067.6</td>\n",
              "      <td>8219.6</td>\n",
              "      <td>8224.1</td>\n",
              "      <td>8292.9</td>\n",
              "      <td>8355.65</td>\n",
              "      <td>8340.7</td>\n",
              "      <td>8438.25</td>\n",
              "      <td>8538.3</td>\n",
              "      <td>8564.4</td>\n",
              "      <td>8537.65</td>\n",
              "      <td>8524.7</td>\n",
              "      <td>0.000236</td>\n",
              "      <td>0.005545</td>\n",
              "      <td>0.003249</td>\n",
              "      <td>-0.011301</td>\n",
              "      <td>-0.006871</td>\n",
              "      <td>0.01194</td>\n",
              "      <td>0.008044</td>\n",
              "      <td>0.015999</td>\n",
              "      <td>-0.004696</td>\n",
              "      <td>-0.018666</td>\n",
              "      <td>-0.000547</td>\n",
              "      <td>-0.008331</td>\n",
              "      <td>-0.007538</td>\n",
              "      <td>0.001791</td>\n",
              "      <td>-0.011628</td>\n",
              "      <td>-0.011787</td>\n",
              "      <td>-0.003052</td>\n",
              "      <td>0.003128</td>\n",
              "      <td>0.001518</td>\n",
              "      <td>-0.003653</td>\n",
              "      <td>-9.613802</td>\n",
              "      <td>0.824825</td>\n",
              "      <td>0.830505</td>\n",
              "      <td>0.192584</td>\n",
              "      <td>0.671748</td>\n",
              "      <td>2.067918</td>\n",
              "    </tr>\n",
              "    <tr>\n",
              "      <th>19213</th>\n",
              "      <td>30-Dec-2014</td>\n",
              "      <td>9550</td>\n",
              "      <td>967.00</td>\n",
              "      <td>8248.25</td>\n",
              "      <td>0.000236</td>\n",
              "      <td>0.008876</td>\n",
              "      <td>0.031192</td>\n",
              "      <td>0.076712</td>\n",
              "      <td>0.0835</td>\n",
              "      <td>0.082192</td>\n",
              "      <td>8248.25</td>\n",
              "      <td>8246.3</td>\n",
              "      <td>8200.7</td>\n",
              "      <td>8174.1</td>\n",
              "      <td>8267.0</td>\n",
              "      <td>8324.0</td>\n",
              "      <td>8225.2</td>\n",
              "      <td>8159.3</td>\n",
              "      <td>8029.8</td>\n",
              "      <td>8067.6</td>\n",
              "      <td>8219.6</td>\n",
              "      <td>8224.1</td>\n",
              "      <td>8292.9</td>\n",
              "      <td>8355.65</td>\n",
              "      <td>8340.7</td>\n",
              "      <td>8438.25</td>\n",
              "      <td>8538.3</td>\n",
              "      <td>8564.4</td>\n",
              "      <td>8537.65</td>\n",
              "      <td>8524.7</td>\n",
              "      <td>0.000236</td>\n",
              "      <td>0.005545</td>\n",
              "      <td>0.003249</td>\n",
              "      <td>-0.011301</td>\n",
              "      <td>-0.006871</td>\n",
              "      <td>0.01194</td>\n",
              "      <td>0.008044</td>\n",
              "      <td>0.015999</td>\n",
              "      <td>-0.004696</td>\n",
              "      <td>-0.018666</td>\n",
              "      <td>-0.000547</td>\n",
              "      <td>-0.008331</td>\n",
              "      <td>-0.007538</td>\n",
              "      <td>0.001791</td>\n",
              "      <td>-0.011628</td>\n",
              "      <td>-0.011787</td>\n",
              "      <td>-0.003052</td>\n",
              "      <td>0.003128</td>\n",
              "      <td>0.001518</td>\n",
              "      <td>-0.003653</td>\n",
              "      <td>-9.613802</td>\n",
              "      <td>0.863691</td>\n",
              "      <td>0.869639</td>\n",
              "      <td>0.146540</td>\n",
              "      <td>0.511143</td>\n",
              "      <td>1.573510</td>\n",
              "    </tr>\n",
              "    <tr>\n",
              "      <th>19214</th>\n",
              "      <td>30-Dec-2014</td>\n",
              "      <td>9600</td>\n",
              "      <td>1233.25</td>\n",
              "      <td>8248.25</td>\n",
              "      <td>0.000236</td>\n",
              "      <td>0.008876</td>\n",
              "      <td>0.031192</td>\n",
              "      <td>0.076712</td>\n",
              "      <td>0.0835</td>\n",
              "      <td>0.082192</td>\n",
              "      <td>8248.25</td>\n",
              "      <td>8246.3</td>\n",
              "      <td>8200.7</td>\n",
              "      <td>8174.1</td>\n",
              "      <td>8267.0</td>\n",
              "      <td>8324.0</td>\n",
              "      <td>8225.2</td>\n",
              "      <td>8159.3</td>\n",
              "      <td>8029.8</td>\n",
              "      <td>8067.6</td>\n",
              "      <td>8219.6</td>\n",
              "      <td>8224.1</td>\n",
              "      <td>8292.9</td>\n",
              "      <td>8355.65</td>\n",
              "      <td>8340.7</td>\n",
              "      <td>8438.25</td>\n",
              "      <td>8538.3</td>\n",
              "      <td>8564.4</td>\n",
              "      <td>8537.65</td>\n",
              "      <td>8524.7</td>\n",
              "      <td>0.000236</td>\n",
              "      <td>0.005545</td>\n",
              "      <td>0.003249</td>\n",
              "      <td>-0.011301</td>\n",
              "      <td>-0.006871</td>\n",
              "      <td>0.01194</td>\n",
              "      <td>0.008044</td>\n",
              "      <td>0.015999</td>\n",
              "      <td>-0.004696</td>\n",
              "      <td>-0.018666</td>\n",
              "      <td>-0.000547</td>\n",
              "      <td>-0.008331</td>\n",
              "      <td>-0.007538</td>\n",
              "      <td>0.001791</td>\n",
              "      <td>-0.011628</td>\n",
              "      <td>-0.011787</td>\n",
              "      <td>-0.003052</td>\n",
              "      <td>0.003128</td>\n",
              "      <td>0.001518</td>\n",
              "      <td>-0.003653</td>\n",
              "      <td>-9.613802</td>\n",
              "      <td>0.859193</td>\n",
              "      <td>0.865110</td>\n",
              "      <td>0.151762</td>\n",
              "      <td>0.529357</td>\n",
              "      <td>1.629582</td>\n",
              "    </tr>\n",
              "    <tr>\n",
              "      <th>19215</th>\n",
              "      <td>30-Dec-2014</td>\n",
              "      <td>9650</td>\n",
              "      <td>1005.00</td>\n",
              "      <td>8248.25</td>\n",
              "      <td>0.000236</td>\n",
              "      <td>0.008876</td>\n",
              "      <td>0.031192</td>\n",
              "      <td>0.076712</td>\n",
              "      <td>0.0835</td>\n",
              "      <td>0.082192</td>\n",
              "      <td>8248.25</td>\n",
              "      <td>8246.3</td>\n",
              "      <td>8200.7</td>\n",
              "      <td>8174.1</td>\n",
              "      <td>8267.0</td>\n",
              "      <td>8324.0</td>\n",
              "      <td>8225.2</td>\n",
              "      <td>8159.3</td>\n",
              "      <td>8029.8</td>\n",
              "      <td>8067.6</td>\n",
              "      <td>8219.6</td>\n",
              "      <td>8224.1</td>\n",
              "      <td>8292.9</td>\n",
              "      <td>8355.65</td>\n",
              "      <td>8340.7</td>\n",
              "      <td>8438.25</td>\n",
              "      <td>8538.3</td>\n",
              "      <td>8564.4</td>\n",
              "      <td>8537.65</td>\n",
              "      <td>8524.7</td>\n",
              "      <td>0.000236</td>\n",
              "      <td>0.005545</td>\n",
              "      <td>0.003249</td>\n",
              "      <td>-0.011301</td>\n",
              "      <td>-0.006871</td>\n",
              "      <td>0.01194</td>\n",
              "      <td>0.008044</td>\n",
              "      <td>0.015999</td>\n",
              "      <td>-0.004696</td>\n",
              "      <td>-0.018666</td>\n",
              "      <td>-0.000547</td>\n",
              "      <td>-0.008331</td>\n",
              "      <td>-0.007538</td>\n",
              "      <td>0.001791</td>\n",
              "      <td>-0.011628</td>\n",
              "      <td>-0.011787</td>\n",
              "      <td>-0.003052</td>\n",
              "      <td>0.003128</td>\n",
              "      <td>0.001518</td>\n",
              "      <td>-0.003653</td>\n",
              "      <td>-9.613802</td>\n",
              "      <td>0.854741</td>\n",
              "      <td>0.860627</td>\n",
              "      <td>0.156957</td>\n",
              "      <td>0.547477</td>\n",
              "      <td>1.685363</td>\n",
              "    </tr>\n",
              "    <tr>\n",
              "      <th>19216</th>\n",
              "      <td>30-Dec-2014</td>\n",
              "      <td>9700</td>\n",
              "      <td>1195.10</td>\n",
              "      <td>8248.25</td>\n",
              "      <td>0.000236</td>\n",
              "      <td>0.008876</td>\n",
              "      <td>0.031192</td>\n",
              "      <td>0.076712</td>\n",
              "      <td>0.0835</td>\n",
              "      <td>0.082192</td>\n",
              "      <td>8248.25</td>\n",
              "      <td>8246.3</td>\n",
              "      <td>8200.7</td>\n",
              "      <td>8174.1</td>\n",
              "      <td>8267.0</td>\n",
              "      <td>8324.0</td>\n",
              "      <td>8225.2</td>\n",
              "      <td>8159.3</td>\n",
              "      <td>8029.8</td>\n",
              "      <td>8067.6</td>\n",
              "      <td>8219.6</td>\n",
              "      <td>8224.1</td>\n",
              "      <td>8292.9</td>\n",
              "      <td>8355.65</td>\n",
              "      <td>8340.7</td>\n",
              "      <td>8438.25</td>\n",
              "      <td>8538.3</td>\n",
              "      <td>8564.4</td>\n",
              "      <td>8537.65</td>\n",
              "      <td>8524.7</td>\n",
              "      <td>0.000236</td>\n",
              "      <td>0.005545</td>\n",
              "      <td>0.003249</td>\n",
              "      <td>-0.011301</td>\n",
              "      <td>-0.006871</td>\n",
              "      <td>0.01194</td>\n",
              "      <td>0.008044</td>\n",
              "      <td>0.015999</td>\n",
              "      <td>-0.004696</td>\n",
              "      <td>-0.018666</td>\n",
              "      <td>-0.000547</td>\n",
              "      <td>-0.008331</td>\n",
              "      <td>-0.007538</td>\n",
              "      <td>0.001791</td>\n",
              "      <td>-0.011628</td>\n",
              "      <td>-0.011787</td>\n",
              "      <td>-0.003052</td>\n",
              "      <td>0.003128</td>\n",
              "      <td>0.001518</td>\n",
              "      <td>-0.003653</td>\n",
              "      <td>-9.613802</td>\n",
              "      <td>0.850335</td>\n",
              "      <td>0.856191</td>\n",
              "      <td>0.162125</td>\n",
              "      <td>0.565504</td>\n",
              "      <td>1.740855</td>\n",
              "    </tr>\n",
              "  </tbody>\n",
              "</table>\n",
              "</div>"
            ],
            "text/plain": [
              "              Date      K  option_price  ...  log(K/S)  log(K/S)0.5  log(K/S)0.95\n",
              "19212  30-Dec-2014  10000       1662.75  ...  0.192584     0.671748      2.067918\n",
              "19213  30-Dec-2014   9550        967.00  ...  0.146540     0.511143      1.573510\n",
              "19214  30-Dec-2014   9600       1233.25  ...  0.151762     0.529357      1.629582\n",
              "19215  30-Dec-2014   9650       1005.00  ...  0.156957     0.547477      1.685363\n",
              "19216  30-Dec-2014   9700       1195.10  ...  0.162125     0.565504      1.740855\n",
              "\n",
              "[5 rows x 56 columns]"
            ]
          },
          "metadata": {
            "tags": []
          },
          "execution_count": 136
        }
      ]
    },
    {
      "cell_type": "code",
      "metadata": {
        "colab": {
          "base_uri": "https://localhost:8080/"
        },
        "id": "K-WkVcqAWtu5",
        "outputId": "2758a631-933d-4b64-9571-8b8a026c8b47"
      },
      "source": [
        "len(final_df)"
      ],
      "execution_count": null,
      "outputs": [
        {
          "output_type": "execute_result",
          "data": {
            "text/plain": [
              "19610"
            ]
          },
          "metadata": {
            "tags": []
          },
          "execution_count": 137
        }
      ]
    },
    {
      "cell_type": "code",
      "metadata": {
        "id": "UM8V1LxPW-aN"
      },
      "source": [
        "final_df.to_csv('new_model_put_df.csv', index=True)"
      ],
      "execution_count": null,
      "outputs": []
    },
    {
      "cell_type": "code",
      "metadata": {
        "id": "DnJNXhQqX2YX"
      },
      "source": [
        "df4matlab = final_df[['K', 'option_price', 'stock_price','r', 'tau']]"
      ],
      "execution_count": null,
      "outputs": []
    },
    {
      "cell_type": "code",
      "metadata": {
        "colab": {
          "base_uri": "https://localhost:8080/",
          "height": 191
        },
        "id": "_nVciAN3YLRh",
        "outputId": "ef10ce08-4fca-4556-e076-a7f043769712"
      },
      "source": [
        "df4matlab.head()"
      ],
      "execution_count": null,
      "outputs": [
        {
          "output_type": "execute_result",
          "data": {
            "text/html": [
              "<div>\n",
              "<style scoped>\n",
              "    .dataframe tbody tr th:only-of-type {\n",
              "        vertical-align: middle;\n",
              "    }\n",
              "\n",
              "    .dataframe tbody tr th {\n",
              "        vertical-align: top;\n",
              "    }\n",
              "\n",
              "    .dataframe thead th {\n",
              "        text-align: right;\n",
              "    }\n",
              "</style>\n",
              "<table border=\"1\" class=\"dataframe\">\n",
              "  <thead>\n",
              "    <tr style=\"text-align: right;\">\n",
              "      <th></th>\n",
              "      <th>K</th>\n",
              "      <th>option_price</th>\n",
              "      <th>stock_price</th>\n",
              "      <th>r</th>\n",
              "      <th>tau</th>\n",
              "    </tr>\n",
              "  </thead>\n",
              "  <tbody>\n",
              "    <tr>\n",
              "      <th>19212</th>\n",
              "      <td>10000</td>\n",
              "      <td>1662.75</td>\n",
              "      <td>8248.25</td>\n",
              "      <td>0.0835</td>\n",
              "      <td>0.082192</td>\n",
              "    </tr>\n",
              "    <tr>\n",
              "      <th>19213</th>\n",
              "      <td>9550</td>\n",
              "      <td>967.00</td>\n",
              "      <td>8248.25</td>\n",
              "      <td>0.0835</td>\n",
              "      <td>0.082192</td>\n",
              "    </tr>\n",
              "    <tr>\n",
              "      <th>19214</th>\n",
              "      <td>9600</td>\n",
              "      <td>1233.25</td>\n",
              "      <td>8248.25</td>\n",
              "      <td>0.0835</td>\n",
              "      <td>0.082192</td>\n",
              "    </tr>\n",
              "    <tr>\n",
              "      <th>19215</th>\n",
              "      <td>9650</td>\n",
              "      <td>1005.00</td>\n",
              "      <td>8248.25</td>\n",
              "      <td>0.0835</td>\n",
              "      <td>0.082192</td>\n",
              "    </tr>\n",
              "    <tr>\n",
              "      <th>19216</th>\n",
              "      <td>9700</td>\n",
              "      <td>1195.10</td>\n",
              "      <td>8248.25</td>\n",
              "      <td>0.0835</td>\n",
              "      <td>0.082192</td>\n",
              "    </tr>\n",
              "  </tbody>\n",
              "</table>\n",
              "</div>"
            ],
            "text/plain": [
              "           K  option_price  stock_price       r       tau\n",
              "19212  10000       1662.75      8248.25  0.0835  0.082192\n",
              "19213   9550        967.00      8248.25  0.0835  0.082192\n",
              "19214   9600       1233.25      8248.25  0.0835  0.082192\n",
              "19215   9650       1005.00      8248.25  0.0835  0.082192\n",
              "19216   9700       1195.10      8248.25  0.0835  0.082192"
            ]
          },
          "metadata": {
            "tags": []
          },
          "execution_count": 140
        }
      ]
    },
    {
      "cell_type": "code",
      "metadata": {
        "id": "j0fC2ZD5YdnV"
      },
      "source": [
        "df4matlab.to_csv('new_model_put_matlab.csv', index=True)"
      ],
      "execution_count": null,
      "outputs": []
    },
    {
      "cell_type": "code",
      "metadata": {
        "id": "EUqA7MOVvBj3"
      },
      "source": [
        "## At this stage use the matlab code provided to calculate implied volatility for the option"
      ],
      "execution_count": null,
      "outputs": []
    },
    {
      "cell_type": "markdown",
      "metadata": {
        "id": "1yvygYSRBwS1"
      },
      "source": [
        "# Implied Volatility"
      ]
    },
    {
      "cell_type": "code",
      "metadata": {
        "id": "a3Ya6Q-glPOX"
      },
      "source": [
        "final_df = pd.read_csv('new_model_put_df.csv')"
      ],
      "execution_count": null,
      "outputs": []
    },
    {
      "cell_type": "code",
      "metadata": {
        "id": "9vsPU22DllDs"
      },
      "source": [
        "final_df = final_df.rename(columns={'Unnamed: 0': 'Index'})"
      ],
      "execution_count": null,
      "outputs": []
    },
    {
      "cell_type": "code",
      "metadata": {
        "colab": {
          "base_uri": "https://localhost:8080/",
          "height": 373
        },
        "id": "dOwshsWVlYAq",
        "outputId": "dabc8f2d-f4e6-4728-f26e-20c2db9695c3"
      },
      "source": [
        "final_df.head()"
      ],
      "execution_count": null,
      "outputs": [
        {
          "output_type": "execute_result",
          "data": {
            "text/html": [
              "<div>\n",
              "<style scoped>\n",
              "    .dataframe tbody tr th:only-of-type {\n",
              "        vertical-align: middle;\n",
              "    }\n",
              "\n",
              "    .dataframe tbody tr th {\n",
              "        vertical-align: top;\n",
              "    }\n",
              "\n",
              "    .dataframe thead th {\n",
              "        text-align: right;\n",
              "    }\n",
              "</style>\n",
              "<table border=\"1\" class=\"dataframe\">\n",
              "  <thead>\n",
              "    <tr style=\"text-align: right;\">\n",
              "      <th></th>\n",
              "      <th>Index</th>\n",
              "      <th>Date</th>\n",
              "      <th>K</th>\n",
              "      <th>option_price</th>\n",
              "      <th>stock_price</th>\n",
              "      <th>log_ret</th>\n",
              "      <th>sigma_20</th>\n",
              "      <th>cal_sig_20</th>\n",
              "      <th>delta_t</th>\n",
              "      <th>r</th>\n",
              "      <th>tau</th>\n",
              "      <th>S1</th>\n",
              "      <th>S2</th>\n",
              "      <th>S3</th>\n",
              "      <th>S4</th>\n",
              "      <th>S5</th>\n",
              "      <th>S6</th>\n",
              "      <th>S7</th>\n",
              "      <th>S8</th>\n",
              "      <th>S9</th>\n",
              "      <th>S10</th>\n",
              "      <th>S11</th>\n",
              "      <th>S12</th>\n",
              "      <th>S13</th>\n",
              "      <th>S14</th>\n",
              "      <th>S15</th>\n",
              "      <th>S16</th>\n",
              "      <th>S17</th>\n",
              "      <th>S18</th>\n",
              "      <th>S19</th>\n",
              "      <th>S20</th>\n",
              "      <th>log_ret1</th>\n",
              "      <th>log_ret2</th>\n",
              "      <th>log_ret3</th>\n",
              "      <th>log_ret4</th>\n",
              "      <th>log_ret5</th>\n",
              "      <th>log_ret6</th>\n",
              "      <th>log_ret7</th>\n",
              "      <th>log_ret8</th>\n",
              "      <th>log_ret9</th>\n",
              "      <th>log_ret10</th>\n",
              "      <th>log_ret11</th>\n",
              "      <th>log_ret12</th>\n",
              "      <th>log_ret13</th>\n",
              "      <th>log_ret14</th>\n",
              "      <th>log_ret15</th>\n",
              "      <th>log_ret16</th>\n",
              "      <th>log_ret17</th>\n",
              "      <th>log_ret18</th>\n",
              "      <th>log_ret19</th>\n",
              "      <th>log_ret20</th>\n",
              "      <th>sharpe_ratio</th>\n",
              "      <th>moneyness1</th>\n",
              "      <th>moneyness2</th>\n",
              "      <th>log(K/S)</th>\n",
              "      <th>log(K/S)0.5</th>\n",
              "      <th>log(K/S)0.95</th>\n",
              "    </tr>\n",
              "  </thead>\n",
              "  <tbody>\n",
              "    <tr>\n",
              "      <th>0</th>\n",
              "      <td>19212</td>\n",
              "      <td>30-Dec-2014</td>\n",
              "      <td>10000</td>\n",
              "      <td>1662.75</td>\n",
              "      <td>8248.25</td>\n",
              "      <td>0.000236</td>\n",
              "      <td>0.008876</td>\n",
              "      <td>0.031192</td>\n",
              "      <td>0.076712</td>\n",
              "      <td>0.0835</td>\n",
              "      <td>0.082192</td>\n",
              "      <td>8248.25</td>\n",
              "      <td>8246.3</td>\n",
              "      <td>8200.7</td>\n",
              "      <td>8174.1</td>\n",
              "      <td>8267.0</td>\n",
              "      <td>8324.0</td>\n",
              "      <td>8225.2</td>\n",
              "      <td>8159.3</td>\n",
              "      <td>8029.8</td>\n",
              "      <td>8067.6</td>\n",
              "      <td>8219.6</td>\n",
              "      <td>8224.1</td>\n",
              "      <td>8292.9</td>\n",
              "      <td>8355.65</td>\n",
              "      <td>8340.7</td>\n",
              "      <td>8438.25</td>\n",
              "      <td>8538.3</td>\n",
              "      <td>8564.4</td>\n",
              "      <td>8537.65</td>\n",
              "      <td>8524.7</td>\n",
              "      <td>0.000236</td>\n",
              "      <td>0.005545</td>\n",
              "      <td>0.003249</td>\n",
              "      <td>-0.011301</td>\n",
              "      <td>-0.006871</td>\n",
              "      <td>0.01194</td>\n",
              "      <td>0.008044</td>\n",
              "      <td>0.015999</td>\n",
              "      <td>-0.004696</td>\n",
              "      <td>-0.018666</td>\n",
              "      <td>-0.000547</td>\n",
              "      <td>-0.008331</td>\n",
              "      <td>-0.007538</td>\n",
              "      <td>0.001791</td>\n",
              "      <td>-0.011628</td>\n",
              "      <td>-0.011787</td>\n",
              "      <td>-0.003052</td>\n",
              "      <td>0.003128</td>\n",
              "      <td>0.001518</td>\n",
              "      <td>-0.003653</td>\n",
              "      <td>-9.613802</td>\n",
              "      <td>0.824825</td>\n",
              "      <td>0.830505</td>\n",
              "      <td>0.192584</td>\n",
              "      <td>0.671748</td>\n",
              "      <td>2.067918</td>\n",
              "    </tr>\n",
              "    <tr>\n",
              "      <th>1</th>\n",
              "      <td>19213</td>\n",
              "      <td>30-Dec-2014</td>\n",
              "      <td>9550</td>\n",
              "      <td>967.00</td>\n",
              "      <td>8248.25</td>\n",
              "      <td>0.000236</td>\n",
              "      <td>0.008876</td>\n",
              "      <td>0.031192</td>\n",
              "      <td>0.076712</td>\n",
              "      <td>0.0835</td>\n",
              "      <td>0.082192</td>\n",
              "      <td>8248.25</td>\n",
              "      <td>8246.3</td>\n",
              "      <td>8200.7</td>\n",
              "      <td>8174.1</td>\n",
              "      <td>8267.0</td>\n",
              "      <td>8324.0</td>\n",
              "      <td>8225.2</td>\n",
              "      <td>8159.3</td>\n",
              "      <td>8029.8</td>\n",
              "      <td>8067.6</td>\n",
              "      <td>8219.6</td>\n",
              "      <td>8224.1</td>\n",
              "      <td>8292.9</td>\n",
              "      <td>8355.65</td>\n",
              "      <td>8340.7</td>\n",
              "      <td>8438.25</td>\n",
              "      <td>8538.3</td>\n",
              "      <td>8564.4</td>\n",
              "      <td>8537.65</td>\n",
              "      <td>8524.7</td>\n",
              "      <td>0.000236</td>\n",
              "      <td>0.005545</td>\n",
              "      <td>0.003249</td>\n",
              "      <td>-0.011301</td>\n",
              "      <td>-0.006871</td>\n",
              "      <td>0.01194</td>\n",
              "      <td>0.008044</td>\n",
              "      <td>0.015999</td>\n",
              "      <td>-0.004696</td>\n",
              "      <td>-0.018666</td>\n",
              "      <td>-0.000547</td>\n",
              "      <td>-0.008331</td>\n",
              "      <td>-0.007538</td>\n",
              "      <td>0.001791</td>\n",
              "      <td>-0.011628</td>\n",
              "      <td>-0.011787</td>\n",
              "      <td>-0.003052</td>\n",
              "      <td>0.003128</td>\n",
              "      <td>0.001518</td>\n",
              "      <td>-0.003653</td>\n",
              "      <td>-9.613802</td>\n",
              "      <td>0.863691</td>\n",
              "      <td>0.869639</td>\n",
              "      <td>0.146540</td>\n",
              "      <td>0.511143</td>\n",
              "      <td>1.573510</td>\n",
              "    </tr>\n",
              "    <tr>\n",
              "      <th>2</th>\n",
              "      <td>19214</td>\n",
              "      <td>30-Dec-2014</td>\n",
              "      <td>9600</td>\n",
              "      <td>1233.25</td>\n",
              "      <td>8248.25</td>\n",
              "      <td>0.000236</td>\n",
              "      <td>0.008876</td>\n",
              "      <td>0.031192</td>\n",
              "      <td>0.076712</td>\n",
              "      <td>0.0835</td>\n",
              "      <td>0.082192</td>\n",
              "      <td>8248.25</td>\n",
              "      <td>8246.3</td>\n",
              "      <td>8200.7</td>\n",
              "      <td>8174.1</td>\n",
              "      <td>8267.0</td>\n",
              "      <td>8324.0</td>\n",
              "      <td>8225.2</td>\n",
              "      <td>8159.3</td>\n",
              "      <td>8029.8</td>\n",
              "      <td>8067.6</td>\n",
              "      <td>8219.6</td>\n",
              "      <td>8224.1</td>\n",
              "      <td>8292.9</td>\n",
              "      <td>8355.65</td>\n",
              "      <td>8340.7</td>\n",
              "      <td>8438.25</td>\n",
              "      <td>8538.3</td>\n",
              "      <td>8564.4</td>\n",
              "      <td>8537.65</td>\n",
              "      <td>8524.7</td>\n",
              "      <td>0.000236</td>\n",
              "      <td>0.005545</td>\n",
              "      <td>0.003249</td>\n",
              "      <td>-0.011301</td>\n",
              "      <td>-0.006871</td>\n",
              "      <td>0.01194</td>\n",
              "      <td>0.008044</td>\n",
              "      <td>0.015999</td>\n",
              "      <td>-0.004696</td>\n",
              "      <td>-0.018666</td>\n",
              "      <td>-0.000547</td>\n",
              "      <td>-0.008331</td>\n",
              "      <td>-0.007538</td>\n",
              "      <td>0.001791</td>\n",
              "      <td>-0.011628</td>\n",
              "      <td>-0.011787</td>\n",
              "      <td>-0.003052</td>\n",
              "      <td>0.003128</td>\n",
              "      <td>0.001518</td>\n",
              "      <td>-0.003653</td>\n",
              "      <td>-9.613802</td>\n",
              "      <td>0.859193</td>\n",
              "      <td>0.865110</td>\n",
              "      <td>0.151762</td>\n",
              "      <td>0.529357</td>\n",
              "      <td>1.629582</td>\n",
              "    </tr>\n",
              "    <tr>\n",
              "      <th>3</th>\n",
              "      <td>19215</td>\n",
              "      <td>30-Dec-2014</td>\n",
              "      <td>9650</td>\n",
              "      <td>1005.00</td>\n",
              "      <td>8248.25</td>\n",
              "      <td>0.000236</td>\n",
              "      <td>0.008876</td>\n",
              "      <td>0.031192</td>\n",
              "      <td>0.076712</td>\n",
              "      <td>0.0835</td>\n",
              "      <td>0.082192</td>\n",
              "      <td>8248.25</td>\n",
              "      <td>8246.3</td>\n",
              "      <td>8200.7</td>\n",
              "      <td>8174.1</td>\n",
              "      <td>8267.0</td>\n",
              "      <td>8324.0</td>\n",
              "      <td>8225.2</td>\n",
              "      <td>8159.3</td>\n",
              "      <td>8029.8</td>\n",
              "      <td>8067.6</td>\n",
              "      <td>8219.6</td>\n",
              "      <td>8224.1</td>\n",
              "      <td>8292.9</td>\n",
              "      <td>8355.65</td>\n",
              "      <td>8340.7</td>\n",
              "      <td>8438.25</td>\n",
              "      <td>8538.3</td>\n",
              "      <td>8564.4</td>\n",
              "      <td>8537.65</td>\n",
              "      <td>8524.7</td>\n",
              "      <td>0.000236</td>\n",
              "      <td>0.005545</td>\n",
              "      <td>0.003249</td>\n",
              "      <td>-0.011301</td>\n",
              "      <td>-0.006871</td>\n",
              "      <td>0.01194</td>\n",
              "      <td>0.008044</td>\n",
              "      <td>0.015999</td>\n",
              "      <td>-0.004696</td>\n",
              "      <td>-0.018666</td>\n",
              "      <td>-0.000547</td>\n",
              "      <td>-0.008331</td>\n",
              "      <td>-0.007538</td>\n",
              "      <td>0.001791</td>\n",
              "      <td>-0.011628</td>\n",
              "      <td>-0.011787</td>\n",
              "      <td>-0.003052</td>\n",
              "      <td>0.003128</td>\n",
              "      <td>0.001518</td>\n",
              "      <td>-0.003653</td>\n",
              "      <td>-9.613802</td>\n",
              "      <td>0.854741</td>\n",
              "      <td>0.860627</td>\n",
              "      <td>0.156957</td>\n",
              "      <td>0.547477</td>\n",
              "      <td>1.685363</td>\n",
              "    </tr>\n",
              "    <tr>\n",
              "      <th>4</th>\n",
              "      <td>19216</td>\n",
              "      <td>30-Dec-2014</td>\n",
              "      <td>9700</td>\n",
              "      <td>1195.10</td>\n",
              "      <td>8248.25</td>\n",
              "      <td>0.000236</td>\n",
              "      <td>0.008876</td>\n",
              "      <td>0.031192</td>\n",
              "      <td>0.076712</td>\n",
              "      <td>0.0835</td>\n",
              "      <td>0.082192</td>\n",
              "      <td>8248.25</td>\n",
              "      <td>8246.3</td>\n",
              "      <td>8200.7</td>\n",
              "      <td>8174.1</td>\n",
              "      <td>8267.0</td>\n",
              "      <td>8324.0</td>\n",
              "      <td>8225.2</td>\n",
              "      <td>8159.3</td>\n",
              "      <td>8029.8</td>\n",
              "      <td>8067.6</td>\n",
              "      <td>8219.6</td>\n",
              "      <td>8224.1</td>\n",
              "      <td>8292.9</td>\n",
              "      <td>8355.65</td>\n",
              "      <td>8340.7</td>\n",
              "      <td>8438.25</td>\n",
              "      <td>8538.3</td>\n",
              "      <td>8564.4</td>\n",
              "      <td>8537.65</td>\n",
              "      <td>8524.7</td>\n",
              "      <td>0.000236</td>\n",
              "      <td>0.005545</td>\n",
              "      <td>0.003249</td>\n",
              "      <td>-0.011301</td>\n",
              "      <td>-0.006871</td>\n",
              "      <td>0.01194</td>\n",
              "      <td>0.008044</td>\n",
              "      <td>0.015999</td>\n",
              "      <td>-0.004696</td>\n",
              "      <td>-0.018666</td>\n",
              "      <td>-0.000547</td>\n",
              "      <td>-0.008331</td>\n",
              "      <td>-0.007538</td>\n",
              "      <td>0.001791</td>\n",
              "      <td>-0.011628</td>\n",
              "      <td>-0.011787</td>\n",
              "      <td>-0.003052</td>\n",
              "      <td>0.003128</td>\n",
              "      <td>0.001518</td>\n",
              "      <td>-0.003653</td>\n",
              "      <td>-9.613802</td>\n",
              "      <td>0.850335</td>\n",
              "      <td>0.856191</td>\n",
              "      <td>0.162125</td>\n",
              "      <td>0.565504</td>\n",
              "      <td>1.740855</td>\n",
              "    </tr>\n",
              "  </tbody>\n",
              "</table>\n",
              "</div>"
            ],
            "text/plain": [
              "   Index         Date      K  ...  log(K/S)  log(K/S)0.5  log(K/S)0.95\n",
              "0  19212  30-Dec-2014  10000  ...  0.192584     0.671748      2.067918\n",
              "1  19213  30-Dec-2014   9550  ...  0.146540     0.511143      1.573510\n",
              "2  19214  30-Dec-2014   9600  ...  0.151762     0.529357      1.629582\n",
              "3  19215  30-Dec-2014   9650  ...  0.156957     0.547477      1.685363\n",
              "4  19216  30-Dec-2014   9700  ...  0.162125     0.565504      1.740855\n",
              "\n",
              "[5 rows x 57 columns]"
            ]
          },
          "metadata": {
            "tags": []
          },
          "execution_count": 145
        }
      ]
    },
    {
      "cell_type": "code",
      "metadata": {
        "id": "xqMNnk19EEi_"
      },
      "source": [
        "impl_df = pd.read_csv(\"new_model_put_impl_sig.csv\")"
      ],
      "execution_count": null,
      "outputs": []
    },
    {
      "cell_type": "code",
      "metadata": {
        "id": "Zx_-t80ZmWRZ"
      },
      "source": [
        "impl_df.head()"
      ],
      "execution_count": null,
      "outputs": []
    },
    {
      "cell_type": "code",
      "metadata": {
        "id": "cq-97A5sIlS6"
      },
      "source": [
        "final_df = final_df.merge(impl_df.drop(columns=['K', 'option_price', 'stock_price', 'r', 'tau']),on=['Index'],how='left')"
      ],
      "execution_count": null,
      "outputs": []
    },
    {
      "cell_type": "code",
      "metadata": {
        "id": "wYuIAEyspqHn"
      },
      "source": [
        "for col in final_df.columns:\n",
        "  if col == 'Date':\n",
        "    continue\n",
        "  final_df[col] = pd.to_numeric(final_df[col], errors='coerce') \n",
        "final_df = final_df.dropna()"
      ],
      "execution_count": null,
      "outputs": []
    },
    {
      "cell_type": "code",
      "metadata": {
        "id": "01aun9S-nUQx"
      },
      "source": [
        "final_df.head()"
      ],
      "execution_count": null,
      "outputs": []
    },
    {
      "cell_type": "markdown",
      "metadata": {
        "id": "lBqPkPSBBqJh"
      },
      "source": [
        "# Evicting Outliers"
      ]
    },
    {
      "cell_type": "markdown",
      "metadata": {
        "id": "EQVfMNZAnlz_"
      },
      "source": [
        "## Removing deep in-the-money and out-of-money"
      ]
    },
    {
      "cell_type": "code",
      "metadata": {
        "id": "LEnE8Lu_BvbK"
      },
      "source": [
        "final_df = final_df[final_df['moneyness2']<=1.10]\n",
        "final_df = final_df[final_df['stock_price']>=0.90]"
      ],
      "execution_count": null,
      "outputs": []
    },
    {
      "cell_type": "code",
      "metadata": {
        "id": "NH8Ly-y4n4Xl"
      },
      "source": [
        "len(final_df)"
      ],
      "execution_count": null,
      "outputs": []
    },
    {
      "cell_type": "markdown",
      "metadata": {
        "id": "y-p6f3I_oECB"
      },
      "source": [
        "## Removing Arbitrage Opportunities"
      ]
    },
    {
      "cell_type": "code",
      "metadata": {
        "id": "81iV7VzipQbf"
      },
      "source": [
        "final_df.columns"
      ],
      "execution_count": null,
      "outputs": []
    },
    {
      "cell_type": "code",
      "metadata": {
        "id": "RHW_HNAAoXKR"
      },
      "source": [
        "def arbitrage(row):\n",
        "    return row['option_price'] - max(row['stock_price']-row['K']*np.exp(-row['r']*row['tau']), 0)"
      ],
      "execution_count": null,
      "outputs": []
    },
    {
      "cell_type": "code",
      "metadata": {
        "id": "u5LkKsWIoDY7"
      },
      "source": [
        "final_df['arbitrage'] = final_df[['stock_price', 'r', 'K', 'tau', 'option_price']].apply(lambda x: arbitrage(x), axis=1)"
      ],
      "execution_count": null,
      "outputs": []
    },
    {
      "cell_type": "code",
      "metadata": {
        "id": "mSI0Lcffn5zY"
      },
      "source": [
        "final_df = final_df[final_df['arbitrage']>0]"
      ],
      "execution_count": null,
      "outputs": []
    },
    {
      "cell_type": "code",
      "metadata": {
        "id": "AGx2YrRyqQ1p"
      },
      "source": [
        "len(final_df)"
      ],
      "execution_count": null,
      "outputs": []
    },
    {
      "cell_type": "markdown",
      "metadata": {
        "id": "-0iYnJQ0rKjJ"
      },
      "source": [
        "## Expiry"
      ]
    },
    {
      "cell_type": "code",
      "metadata": {
        "id": "0A8VG8zyqSF5"
      },
      "source": [
        "final_df = final_df[final_df['tau']>=6/365]"
      ],
      "execution_count": null,
      "outputs": []
    },
    {
      "cell_type": "code",
      "metadata": {
        "id": "r5Jw33xNrZoC"
      },
      "source": [
        "len(final_df)"
      ],
      "execution_count": null,
      "outputs": []
    },
    {
      "cell_type": "code",
      "metadata": {
        "id": "oMh1awUAyBqu"
      },
      "source": [
        "final_df.columns"
      ],
      "execution_count": null,
      "outputs": []
    },
    {
      "cell_type": "markdown",
      "metadata": {
        "id": "bZePNIVT3fxs"
      },
      "source": [
        "# Final data csv"
      ]
    },
    {
      "cell_type": "code",
      "metadata": {
        "id": "nLtEkMxHumzm"
      },
      "source": [
        "final_df = final_df[['K', 'stock_price', \n",
        "                     'log_ret', 'sigma_20', 'cal_sig_20', 'delta_t', 'r', \n",
        "                     'tau', 'sharpe_ratio', 'moneyness1', 'moneyness2', \n",
        "                     'log(K/S)', 'log(K/S)0.5', 'log(K/S)0.95', 'arbitrage', \n",
        "                     'S1', 'log_ret1', 'S2', 'log_ret2', 'S3', 'log_ret3', \n",
        "                     'S4', 'log_ret4', 'S5', 'log_ret5', 'S6', 'log_ret6',\n",
        "                     'S7', 'log_ret7', 'S8', 'log_ret8', 'S9', 'log_ret9', \n",
        "                     'S10', 'log_ret10', 'S11', 'log_ret11', 'S12', 'log_ret12', \n",
        "                     'S13', 'log_ret13', 'S14', 'log_ret14', 'S15', 'log_ret15', \n",
        "                     'S16', 'log_ret16', 'S17', 'log_ret17', 'S18', 'log_ret18', \n",
        "                     'S19', 'log_ret19', 'S20', 'log_ret20', 'impl_sig', 'option_price']]"
      ],
      "execution_count": null,
      "outputs": []
    },
    {
      "cell_type": "code",
      "metadata": {
        "id": "uyHM4FnnwJUw"
      },
      "source": [
        "final_df.columns"
      ],
      "execution_count": null,
      "outputs": []
    },
    {
      "cell_type": "code",
      "metadata": {
        "id": "_QRIgq413qd8"
      },
      "source": [
        "final_df.to_csv('new_model_final_put_df.csv', index=False)"
      ],
      "execution_count": null,
      "outputs": []
    }
  ]
}